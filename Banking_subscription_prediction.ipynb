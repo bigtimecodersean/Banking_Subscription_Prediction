{
  "cells": [
    {
      "cell_type": "markdown",
      "source": [
        "The aim of this project is to see whether we can predict whether a client subscribed to a term deposit after a direct marking campaign from a Portugese bank. \n",
        "\n",
        "The data is related with direct marketing campaigns of a Portuguese banking institution, based on phone calls (Moro, Cortez, and Rita 2014).\n",
        "\n",
        "The goal of the campaigns were to get the clients to subscribe to a term deposit. There are 20 input variables and 1 binary output variable (y) that indicates whether the client subscribed to a term deposit with values ‘yes’,‘no’.\n",
        "\n",
        "We try a few different classification methods, including: \n",
        "- Logistic Regression\n",
        "- Random Forests\n",
        "- K-Nearest Neighbours\n",
        "- Support Vector Machines\n",
        "- Neural Networks.\n"
      ],
      "metadata": {
        "id": "3NOjZuw6YU-L"
      }
    },
    {
      "cell_type": "markdown",
      "source": [
        "##Imports"
      ],
      "metadata": {
        "id": "yHLLqTH1DkfR"
      }
    },
    {
      "cell_type": "code",
      "execution_count": null,
      "metadata": {
        "id": "bo8--PoIr7Vw"
      },
      "outputs": [],
      "source": [
        "import pandas as pd \n",
        "import numpy as np\n",
        "from matplotlib import pyplot as plt\n",
        "import seaborn as sns\n",
        "sns.set()"
      ]
    },
    {
      "cell_type": "markdown",
      "source": [
        "## Data Exploration & Wrangling\n"
      ],
      "metadata": {
        "id": "EnL2-laUDnud"
      }
    },
    {
      "cell_type": "code",
      "execution_count": null,
      "metadata": {
        "id": "HLejlOBvsPqi"
      },
      "outputs": [],
      "source": [
        "#create a dataframe out of the csv file \n",
        "df = pd.read_csv('/content/bank-additional-full.csv')"
      ]
    },
    {
      "cell_type": "code",
      "execution_count": null,
      "metadata": {
        "colab": {
          "base_uri": "https://localhost:8080/",
          "height": 206
        },
        "id": "3CkeN8-SuBaa",
        "outputId": "077b6dfa-d156-4623-e0f2-b8300b74daa7"
      },
      "outputs": [
        {
          "data": {
            "text/html": [
              "\n",
              "  <div id=\"df-102eaa2e-3aaf-46a1-a361-56c3dc008dcd\">\n",
              "    <div class=\"colab-df-container\">\n",
              "      <div>\n",
              "<style scoped>\n",
              "    .dataframe tbody tr th:only-of-type {\n",
              "        vertical-align: middle;\n",
              "    }\n",
              "\n",
              "    .dataframe tbody tr th {\n",
              "        vertical-align: top;\n",
              "    }\n",
              "\n",
              "    .dataframe thead th {\n",
              "        text-align: right;\n",
              "    }\n",
              "</style>\n",
              "<table border=\"1\" class=\"dataframe\">\n",
              "  <thead>\n",
              "    <tr style=\"text-align: right;\">\n",
              "      <th></th>\n",
              "      <th>age;\"job\";\"marital\";\"education\";\"default\";\"housing\";\"loan\";\"contact\";\"month\";\"day_of_week\";\"duration\";\"campaign\";\"pdays\";\"previous\";\"poutcome\";\"emp.var.rate\";\"cons.price.idx\";\"cons.conf.idx\";\"euribor3m\";\"nr.employed\";\"y\"</th>\n",
              "    </tr>\n",
              "  </thead>\n",
              "  <tbody>\n",
              "    <tr>\n",
              "      <th>0</th>\n",
              "      <td>56;\"housemaid\";\"married\";\"basic.4y\";\"no\";\"no\";...</td>\n",
              "    </tr>\n",
              "    <tr>\n",
              "      <th>1</th>\n",
              "      <td>57;\"services\";\"married\";\"high.school\";\"unknown...</td>\n",
              "    </tr>\n",
              "    <tr>\n",
              "      <th>2</th>\n",
              "      <td>37;\"services\";\"married\";\"high.school\";\"no\";\"ye...</td>\n",
              "    </tr>\n",
              "    <tr>\n",
              "      <th>3</th>\n",
              "      <td>40;\"admin.\";\"married\";\"basic.6y\";\"no\";\"no\";\"no...</td>\n",
              "    </tr>\n",
              "    <tr>\n",
              "      <th>4</th>\n",
              "      <td>56;\"services\";\"married\";\"high.school\";\"no\";\"no...</td>\n",
              "    </tr>\n",
              "  </tbody>\n",
              "</table>\n",
              "</div>\n",
              "      <button class=\"colab-df-convert\" onclick=\"convertToInteractive('df-102eaa2e-3aaf-46a1-a361-56c3dc008dcd')\"\n",
              "              title=\"Convert this dataframe to an interactive table.\"\n",
              "              style=\"display:none;\">\n",
              "        \n",
              "  <svg xmlns=\"http://www.w3.org/2000/svg\" height=\"24px\"viewBox=\"0 0 24 24\"\n",
              "       width=\"24px\">\n",
              "    <path d=\"M0 0h24v24H0V0z\" fill=\"none\"/>\n",
              "    <path d=\"M18.56 5.44l.94 2.06.94-2.06 2.06-.94-2.06-.94-.94-2.06-.94 2.06-2.06.94zm-11 1L8.5 8.5l.94-2.06 2.06-.94-2.06-.94L8.5 2.5l-.94 2.06-2.06.94zm10 10l.94 2.06.94-2.06 2.06-.94-2.06-.94-.94-2.06-.94 2.06-2.06.94z\"/><path d=\"M17.41 7.96l-1.37-1.37c-.4-.4-.92-.59-1.43-.59-.52 0-1.04.2-1.43.59L10.3 9.45l-7.72 7.72c-.78.78-.78 2.05 0 2.83L4 21.41c.39.39.9.59 1.41.59.51 0 1.02-.2 1.41-.59l7.78-7.78 2.81-2.81c.8-.78.8-2.07 0-2.86zM5.41 20L4 18.59l7.72-7.72 1.47 1.35L5.41 20z\"/>\n",
              "  </svg>\n",
              "      </button>\n",
              "      \n",
              "  <style>\n",
              "    .colab-df-container {\n",
              "      display:flex;\n",
              "      flex-wrap:wrap;\n",
              "      gap: 12px;\n",
              "    }\n",
              "\n",
              "    .colab-df-convert {\n",
              "      background-color: #E8F0FE;\n",
              "      border: none;\n",
              "      border-radius: 50%;\n",
              "      cursor: pointer;\n",
              "      display: none;\n",
              "      fill: #1967D2;\n",
              "      height: 32px;\n",
              "      padding: 0 0 0 0;\n",
              "      width: 32px;\n",
              "    }\n",
              "\n",
              "    .colab-df-convert:hover {\n",
              "      background-color: #E2EBFA;\n",
              "      box-shadow: 0px 1px 2px rgba(60, 64, 67, 0.3), 0px 1px 3px 1px rgba(60, 64, 67, 0.15);\n",
              "      fill: #174EA6;\n",
              "    }\n",
              "\n",
              "    [theme=dark] .colab-df-convert {\n",
              "      background-color: #3B4455;\n",
              "      fill: #D2E3FC;\n",
              "    }\n",
              "\n",
              "    [theme=dark] .colab-df-convert:hover {\n",
              "      background-color: #434B5C;\n",
              "      box-shadow: 0px 1px 3px 1px rgba(0, 0, 0, 0.15);\n",
              "      filter: drop-shadow(0px 1px 2px rgba(0, 0, 0, 0.3));\n",
              "      fill: #FFFFFF;\n",
              "    }\n",
              "  </style>\n",
              "\n",
              "      <script>\n",
              "        const buttonEl =\n",
              "          document.querySelector('#df-102eaa2e-3aaf-46a1-a361-56c3dc008dcd button.colab-df-convert');\n",
              "        buttonEl.style.display =\n",
              "          google.colab.kernel.accessAllowed ? 'block' : 'none';\n",
              "\n",
              "        async function convertToInteractive(key) {\n",
              "          const element = document.querySelector('#df-102eaa2e-3aaf-46a1-a361-56c3dc008dcd');\n",
              "          const dataTable =\n",
              "            await google.colab.kernel.invokeFunction('convertToInteractive',\n",
              "                                                     [key], {});\n",
              "          if (!dataTable) return;\n",
              "\n",
              "          const docLinkHtml = 'Like what you see? Visit the ' +\n",
              "            '<a target=\"_blank\" href=https://colab.research.google.com/notebooks/data_table.ipynb>data table notebook</a>'\n",
              "            + ' to learn more about interactive tables.';\n",
              "          element.innerHTML = '';\n",
              "          dataTable['output_type'] = 'display_data';\n",
              "          await google.colab.output.renderOutput(dataTable, element);\n",
              "          const docLink = document.createElement('div');\n",
              "          docLink.innerHTML = docLinkHtml;\n",
              "          element.appendChild(docLink);\n",
              "        }\n",
              "      </script>\n",
              "    </div>\n",
              "  </div>\n",
              "  "
            ],
            "text/plain": [
              "  age;\"job\";\"marital\";\"education\";\"default\";\"housing\";\"loan\";\"contact\";\"month\";\"day_of_week\";\"duration\";\"campaign\";\"pdays\";\"previous\";\"poutcome\";\"emp.var.rate\";\"cons.price.idx\";\"cons.conf.idx\";\"euribor3m\";\"nr.employed\";\"y\"\n",
              "0  56;\"housemaid\";\"married\";\"basic.4y\";\"no\";\"no\";...                                                                                                                                                                          \n",
              "1  57;\"services\";\"married\";\"high.school\";\"unknown...                                                                                                                                                                          \n",
              "2  37;\"services\";\"married\";\"high.school\";\"no\";\"ye...                                                                                                                                                                          \n",
              "3  40;\"admin.\";\"married\";\"basic.6y\";\"no\";\"no\";\"no...                                                                                                                                                                          \n",
              "4  56;\"services\";\"married\";\"high.school\";\"no\";\"no...                                                                                                                                                                          "
            ]
          },
          "execution_count": 128,
          "metadata": {},
          "output_type": "execute_result"
        }
      ],
      "source": [
        "df.head()"
      ]
    },
    {
      "cell_type": "code",
      "execution_count": null,
      "metadata": {
        "colab": {
          "base_uri": "https://localhost:8080/"
        },
        "id": "AhXjb342umJZ",
        "outputId": "4ad8e0cc-10ee-4271-dfbb-caefca147cfe"
      },
      "outputs": [
        {
          "name": "stdout",
          "output_type": "stream",
          "text": [
            "['age;\"job\";\"marital\";\"education\";\"default\";\"housing\";\"loan\";\"contact\";\"month\";\"day_of_week\";\"duration\";\"campaign\";\"pdays\";\"previous\";\"poutcome\";\"emp.var.rate\";\"cons.price.idx\";\"cons.conf.idx\";\"euribor3m\";\"nr.employed\";\"y\"']\n"
          ]
        }
      ],
      "source": [
        "print(df.columns.values)"
      ]
    },
    {
      "cell_type": "code",
      "execution_count": null,
      "metadata": {
        "colab": {
          "base_uri": "https://localhost:8080/"
        },
        "id": "pqgAZTuHuyj6",
        "outputId": "5bbb5c62-e857-4a13-ed17-fceb2379efe5"
      },
      "outputs": [
        {
          "name": "stdout",
          "output_type": "stream",
          "text": [
            "['age;\"job\";\"marital\";\"education\";\"default\";\"housing\";\"loan\";\"contact\";\"month\";\"day_of_week\";\"duration\";\"campaign\";\"pdays\";\"previous\";\"poutcome\";\"emp.var.rate\";\"cons.price.idx\";\"cons.conf.idx\";\"euribor3m\";\"nr.employed\";\"y\"']\n"
          ]
        }
      ],
      "source": [
        "print(list(df))"
      ]
    },
    {
      "cell_type": "code",
      "execution_count": null,
      "metadata": {
        "colab": {
          "base_uri": "https://localhost:8080/"
        },
        "id": "45szQp42sX_b",
        "outputId": "8fca0143-fa7d-431a-f711-eba8d815a42d"
      },
      "outputs": [
        {
          "name": "stdout",
          "output_type": "stream",
          "text": [
            "<class 'pandas.core.frame.DataFrame'>\n",
            "RangeIndex: 41188 entries, 0 to 41187\n",
            "Data columns (total 1 columns):\n",
            " #   Column                                                                                                                                                                                                                        Non-Null Count  Dtype \n",
            "---  ------                                                                                                                                                                                                                        --------------  ----- \n",
            " 0   age;\"job\";\"marital\";\"education\";\"default\";\"housing\";\"loan\";\"contact\";\"month\";\"day_of_week\";\"duration\";\"campaign\";\"pdays\";\"previous\";\"poutcome\";\"emp.var.rate\";\"cons.price.idx\";\"cons.conf.idx\";\"euribor3m\";\"nr.employed\";\"y\"  41188 non-null  object\n",
            "dtypes: object(1)\n",
            "memory usage: 321.9+ KB\n"
          ]
        }
      ],
      "source": [
        "df.info()"
      ]
    },
    {
      "cell_type": "code",
      "execution_count": null,
      "metadata": {
        "colab": {
          "base_uri": "https://localhost:8080/"
        },
        "id": "ukATA1ZdsZNU",
        "outputId": "31a1739e-8b41-4412-866e-32c4bd7ed574"
      },
      "outputs": [
        {
          "name": "stdout",
          "output_type": "stream",
          "text": [
            "      age;\"job\";\"marital\";\"education\";\"default\";\"housing\";\"loan\";\"contact\";\"month\";\"day_of_week\";\"duration\";\"campaign\";\"pdays\";\"previous\";\"poutcome\";\"emp.var.rate\";\"cons.price.idx\";\"cons.conf.idx\";\"euribor3m\";\"nr.employed\";\"y\"  \\\n",
            "0      56;\"housemaid\";\"married\";\"basic.4y\";\"no\";\"no\";...                                                                                                                                                                             \n",
            "1      57;\"services\";\"married\";\"high.school\";\"unknown...                                                                                                                                                                             \n",
            "2      37;\"services\";\"married\";\"high.school\";\"no\";\"ye...                                                                                                                                                                             \n",
            "3      40;\"admin.\";\"married\";\"basic.6y\";\"no\";\"no\";\"no...                                                                                                                                                                             \n",
            "4      56;\"services\";\"married\";\"high.school\";\"no\";\"no...                                                                                                                                                                             \n",
            "...                                                  ...                                                                                                                                                                             \n",
            "41183  73;\"retired\";\"married\";\"professional.course\";\"...                                                                                                                                                                             \n",
            "41184  46;\"blue-collar\";\"married\";\"professional.cours...                                                                                                                                                                             \n",
            "41185  56;\"retired\";\"married\";\"university.degree\";\"no...                                                                                                                                                                             \n",
            "41186  44;\"technician\";\"married\";\"professional.course...                                                                                                                                                                             \n",
            "41187  74;\"retired\";\"married\";\"professional.course\";\"...                                                                                                                                                                             \n",
            "\n",
            "      age            job    marital              education    default housing  \\\n",
            "0      56    \"housemaid\"  \"married\"             \"basic.4y\"       \"no\"    \"no\"   \n",
            "1      57     \"services\"  \"married\"          \"high.school\"  \"unknown\"    \"no\"   \n",
            "2      37     \"services\"  \"married\"          \"high.school\"       \"no\"   \"yes\"   \n",
            "3      40       \"admin.\"  \"married\"             \"basic.6y\"       \"no\"    \"no\"   \n",
            "4      56     \"services\"  \"married\"          \"high.school\"       \"no\"    \"no\"   \n",
            "...    ..            ...        ...                    ...        ...     ...   \n",
            "41183  73      \"retired\"  \"married\"  \"professional.course\"       \"no\"   \"yes\"   \n",
            "41184  46  \"blue-collar\"  \"married\"  \"professional.course\"       \"no\"    \"no\"   \n",
            "41185  56      \"retired\"  \"married\"    \"university.degree\"       \"no\"   \"yes\"   \n",
            "41186  44   \"technician\"  \"married\"  \"professional.course\"       \"no\"    \"no\"   \n",
            "41187  74      \"retired\"  \"married\"  \"professional.course\"       \"no\"   \"yes\"   \n",
            "\n",
            "        loan      contact  month  ... campaign pdays previous       poutcome  \\\n",
            "0       \"no\"  \"telephone\"  \"may\"  ...        1   999        0  \"nonexistent\"   \n",
            "1       \"no\"  \"telephone\"  \"may\"  ...        1   999        0  \"nonexistent\"   \n",
            "2       \"no\"  \"telephone\"  \"may\"  ...        1   999        0  \"nonexistent\"   \n",
            "3       \"no\"  \"telephone\"  \"may\"  ...        1   999        0  \"nonexistent\"   \n",
            "4      \"yes\"  \"telephone\"  \"may\"  ...        1   999        0  \"nonexistent\"   \n",
            "...      ...          ...    ...  ...      ...   ...      ...            ...   \n",
            "41183   \"no\"   \"cellular\"  \"nov\"  ...        1   999        0  \"nonexistent\"   \n",
            "41184   \"no\"   \"cellular\"  \"nov\"  ...        1   999        0  \"nonexistent\"   \n",
            "41185   \"no\"   \"cellular\"  \"nov\"  ...        2   999        0  \"nonexistent\"   \n",
            "41186   \"no\"   \"cellular\"  \"nov\"  ...        1   999        0  \"nonexistent\"   \n",
            "41187   \"no\"   \"cellular\"  \"nov\"  ...        3   999        1      \"failure\"   \n",
            "\n",
            "      emp.var.rate cons.price.idx cons.conf.idx euribor3m nr.employed      y  \n",
            "0              1.1         93.994         -36.4     4.857        5191   \"no\"  \n",
            "1              1.1         93.994         -36.4     4.857        5191   \"no\"  \n",
            "2              1.1         93.994         -36.4     4.857        5191   \"no\"  \n",
            "3              1.1         93.994         -36.4     4.857        5191   \"no\"  \n",
            "4              1.1         93.994         -36.4     4.857        5191   \"no\"  \n",
            "...            ...            ...           ...       ...         ...    ...  \n",
            "41183         -1.1         94.767         -50.8     1.028      4963.6  \"yes\"  \n",
            "41184         -1.1         94.767         -50.8     1.028      4963.6   \"no\"  \n",
            "41185         -1.1         94.767         -50.8     1.028      4963.6   \"no\"  \n",
            "41186         -1.1         94.767         -50.8     1.028      4963.6  \"yes\"  \n",
            "41187         -1.1         94.767         -50.8     1.028      4963.6   \"no\"  \n",
            "\n",
            "[41188 rows x 22 columns]\n"
          ]
        }
      ],
      "source": [
        "#split the first column into many columns, separated by semi-colons\n",
        "df[['age', 'job', 'marital', 'education', 'default', 'housing', 'loan', 'contact', 'month','day_of_week', 'duration', 'campaign', 'pdays', 'previous', 'poutcome', 'emp.var.rate', 'cons.price.idx', 'cons.conf.idx', 'euribor3m', 'nr.employed', 'y' ]] = df.iloc[:, 0].apply(lambda x: pd.Series(str(x).split(\";\")))\n",
        "print(df)"
      ]
    },
    {
      "cell_type": "code",
      "execution_count": null,
      "metadata": {
        "colab": {
          "base_uri": "https://localhost:8080/",
          "height": 299
        },
        "id": "Z44JNGLvvC7R",
        "outputId": "fb5842b7-dcdd-46b3-e4b2-37e091d12252"
      },
      "outputs": [
        {
          "data": {
            "text/html": [
              "\n",
              "  <div id=\"df-36680c4d-af31-470b-9859-68c7113d40f6\">\n",
              "    <div class=\"colab-df-container\">\n",
              "      <div>\n",
              "<style scoped>\n",
              "    .dataframe tbody tr th:only-of-type {\n",
              "        vertical-align: middle;\n",
              "    }\n",
              "\n",
              "    .dataframe tbody tr th {\n",
              "        vertical-align: top;\n",
              "    }\n",
              "\n",
              "    .dataframe thead th {\n",
              "        text-align: right;\n",
              "    }\n",
              "</style>\n",
              "<table border=\"1\" class=\"dataframe\">\n",
              "  <thead>\n",
              "    <tr style=\"text-align: right;\">\n",
              "      <th></th>\n",
              "      <th>age;\"job\";\"marital\";\"education\";\"default\";\"housing\";\"loan\";\"contact\";\"month\";\"day_of_week\";\"duration\";\"campaign\";\"pdays\";\"previous\";\"poutcome\";\"emp.var.rate\";\"cons.price.idx\";\"cons.conf.idx\";\"euribor3m\";\"nr.employed\";\"y\"</th>\n",
              "      <th>age</th>\n",
              "      <th>job</th>\n",
              "      <th>marital</th>\n",
              "      <th>education</th>\n",
              "      <th>default</th>\n",
              "      <th>housing</th>\n",
              "      <th>loan</th>\n",
              "      <th>contact</th>\n",
              "      <th>month</th>\n",
              "      <th>...</th>\n",
              "      <th>campaign</th>\n",
              "      <th>pdays</th>\n",
              "      <th>previous</th>\n",
              "      <th>poutcome</th>\n",
              "      <th>emp.var.rate</th>\n",
              "      <th>cons.price.idx</th>\n",
              "      <th>cons.conf.idx</th>\n",
              "      <th>euribor3m</th>\n",
              "      <th>nr.employed</th>\n",
              "      <th>y</th>\n",
              "    </tr>\n",
              "  </thead>\n",
              "  <tbody>\n",
              "    <tr>\n",
              "      <th>0</th>\n",
              "      <td>56;\"housemaid\";\"married\";\"basic.4y\";\"no\";\"no\";...</td>\n",
              "      <td>56</td>\n",
              "      <td>\"housemaid\"</td>\n",
              "      <td>\"married\"</td>\n",
              "      <td>\"basic.4y\"</td>\n",
              "      <td>\"no\"</td>\n",
              "      <td>\"no\"</td>\n",
              "      <td>\"no\"</td>\n",
              "      <td>\"telephone\"</td>\n",
              "      <td>\"may\"</td>\n",
              "      <td>...</td>\n",
              "      <td>1</td>\n",
              "      <td>999</td>\n",
              "      <td>0</td>\n",
              "      <td>\"nonexistent\"</td>\n",
              "      <td>1.1</td>\n",
              "      <td>93.994</td>\n",
              "      <td>-36.4</td>\n",
              "      <td>4.857</td>\n",
              "      <td>5191</td>\n",
              "      <td>\"no\"</td>\n",
              "    </tr>\n",
              "    <tr>\n",
              "      <th>1</th>\n",
              "      <td>57;\"services\";\"married\";\"high.school\";\"unknown...</td>\n",
              "      <td>57</td>\n",
              "      <td>\"services\"</td>\n",
              "      <td>\"married\"</td>\n",
              "      <td>\"high.school\"</td>\n",
              "      <td>\"unknown\"</td>\n",
              "      <td>\"no\"</td>\n",
              "      <td>\"no\"</td>\n",
              "      <td>\"telephone\"</td>\n",
              "      <td>\"may\"</td>\n",
              "      <td>...</td>\n",
              "      <td>1</td>\n",
              "      <td>999</td>\n",
              "      <td>0</td>\n",
              "      <td>\"nonexistent\"</td>\n",
              "      <td>1.1</td>\n",
              "      <td>93.994</td>\n",
              "      <td>-36.4</td>\n",
              "      <td>4.857</td>\n",
              "      <td>5191</td>\n",
              "      <td>\"no\"</td>\n",
              "    </tr>\n",
              "    <tr>\n",
              "      <th>2</th>\n",
              "      <td>37;\"services\";\"married\";\"high.school\";\"no\";\"ye...</td>\n",
              "      <td>37</td>\n",
              "      <td>\"services\"</td>\n",
              "      <td>\"married\"</td>\n",
              "      <td>\"high.school\"</td>\n",
              "      <td>\"no\"</td>\n",
              "      <td>\"yes\"</td>\n",
              "      <td>\"no\"</td>\n",
              "      <td>\"telephone\"</td>\n",
              "      <td>\"may\"</td>\n",
              "      <td>...</td>\n",
              "      <td>1</td>\n",
              "      <td>999</td>\n",
              "      <td>0</td>\n",
              "      <td>\"nonexistent\"</td>\n",
              "      <td>1.1</td>\n",
              "      <td>93.994</td>\n",
              "      <td>-36.4</td>\n",
              "      <td>4.857</td>\n",
              "      <td>5191</td>\n",
              "      <td>\"no\"</td>\n",
              "    </tr>\n",
              "    <tr>\n",
              "      <th>3</th>\n",
              "      <td>40;\"admin.\";\"married\";\"basic.6y\";\"no\";\"no\";\"no...</td>\n",
              "      <td>40</td>\n",
              "      <td>\"admin.\"</td>\n",
              "      <td>\"married\"</td>\n",
              "      <td>\"basic.6y\"</td>\n",
              "      <td>\"no\"</td>\n",
              "      <td>\"no\"</td>\n",
              "      <td>\"no\"</td>\n",
              "      <td>\"telephone\"</td>\n",
              "      <td>\"may\"</td>\n",
              "      <td>...</td>\n",
              "      <td>1</td>\n",
              "      <td>999</td>\n",
              "      <td>0</td>\n",
              "      <td>\"nonexistent\"</td>\n",
              "      <td>1.1</td>\n",
              "      <td>93.994</td>\n",
              "      <td>-36.4</td>\n",
              "      <td>4.857</td>\n",
              "      <td>5191</td>\n",
              "      <td>\"no\"</td>\n",
              "    </tr>\n",
              "    <tr>\n",
              "      <th>4</th>\n",
              "      <td>56;\"services\";\"married\";\"high.school\";\"no\";\"no...</td>\n",
              "      <td>56</td>\n",
              "      <td>\"services\"</td>\n",
              "      <td>\"married\"</td>\n",
              "      <td>\"high.school\"</td>\n",
              "      <td>\"no\"</td>\n",
              "      <td>\"no\"</td>\n",
              "      <td>\"yes\"</td>\n",
              "      <td>\"telephone\"</td>\n",
              "      <td>\"may\"</td>\n",
              "      <td>...</td>\n",
              "      <td>1</td>\n",
              "      <td>999</td>\n",
              "      <td>0</td>\n",
              "      <td>\"nonexistent\"</td>\n",
              "      <td>1.1</td>\n",
              "      <td>93.994</td>\n",
              "      <td>-36.4</td>\n",
              "      <td>4.857</td>\n",
              "      <td>5191</td>\n",
              "      <td>\"no\"</td>\n",
              "    </tr>\n",
              "  </tbody>\n",
              "</table>\n",
              "<p>5 rows × 22 columns</p>\n",
              "</div>\n",
              "      <button class=\"colab-df-convert\" onclick=\"convertToInteractive('df-36680c4d-af31-470b-9859-68c7113d40f6')\"\n",
              "              title=\"Convert this dataframe to an interactive table.\"\n",
              "              style=\"display:none;\">\n",
              "        \n",
              "  <svg xmlns=\"http://www.w3.org/2000/svg\" height=\"24px\"viewBox=\"0 0 24 24\"\n",
              "       width=\"24px\">\n",
              "    <path d=\"M0 0h24v24H0V0z\" fill=\"none\"/>\n",
              "    <path d=\"M18.56 5.44l.94 2.06.94-2.06 2.06-.94-2.06-.94-.94-2.06-.94 2.06-2.06.94zm-11 1L8.5 8.5l.94-2.06 2.06-.94-2.06-.94L8.5 2.5l-.94 2.06-2.06.94zm10 10l.94 2.06.94-2.06 2.06-.94-2.06-.94-.94-2.06-.94 2.06-2.06.94z\"/><path d=\"M17.41 7.96l-1.37-1.37c-.4-.4-.92-.59-1.43-.59-.52 0-1.04.2-1.43.59L10.3 9.45l-7.72 7.72c-.78.78-.78 2.05 0 2.83L4 21.41c.39.39.9.59 1.41.59.51 0 1.02-.2 1.41-.59l7.78-7.78 2.81-2.81c.8-.78.8-2.07 0-2.86zM5.41 20L4 18.59l7.72-7.72 1.47 1.35L5.41 20z\"/>\n",
              "  </svg>\n",
              "      </button>\n",
              "      \n",
              "  <style>\n",
              "    .colab-df-container {\n",
              "      display:flex;\n",
              "      flex-wrap:wrap;\n",
              "      gap: 12px;\n",
              "    }\n",
              "\n",
              "    .colab-df-convert {\n",
              "      background-color: #E8F0FE;\n",
              "      border: none;\n",
              "      border-radius: 50%;\n",
              "      cursor: pointer;\n",
              "      display: none;\n",
              "      fill: #1967D2;\n",
              "      height: 32px;\n",
              "      padding: 0 0 0 0;\n",
              "      width: 32px;\n",
              "    }\n",
              "\n",
              "    .colab-df-convert:hover {\n",
              "      background-color: #E2EBFA;\n",
              "      box-shadow: 0px 1px 2px rgba(60, 64, 67, 0.3), 0px 1px 3px 1px rgba(60, 64, 67, 0.15);\n",
              "      fill: #174EA6;\n",
              "    }\n",
              "\n",
              "    [theme=dark] .colab-df-convert {\n",
              "      background-color: #3B4455;\n",
              "      fill: #D2E3FC;\n",
              "    }\n",
              "\n",
              "    [theme=dark] .colab-df-convert:hover {\n",
              "      background-color: #434B5C;\n",
              "      box-shadow: 0px 1px 3px 1px rgba(0, 0, 0, 0.15);\n",
              "      filter: drop-shadow(0px 1px 2px rgba(0, 0, 0, 0.3));\n",
              "      fill: #FFFFFF;\n",
              "    }\n",
              "  </style>\n",
              "\n",
              "      <script>\n",
              "        const buttonEl =\n",
              "          document.querySelector('#df-36680c4d-af31-470b-9859-68c7113d40f6 button.colab-df-convert');\n",
              "        buttonEl.style.display =\n",
              "          google.colab.kernel.accessAllowed ? 'block' : 'none';\n",
              "\n",
              "        async function convertToInteractive(key) {\n",
              "          const element = document.querySelector('#df-36680c4d-af31-470b-9859-68c7113d40f6');\n",
              "          const dataTable =\n",
              "            await google.colab.kernel.invokeFunction('convertToInteractive',\n",
              "                                                     [key], {});\n",
              "          if (!dataTable) return;\n",
              "\n",
              "          const docLinkHtml = 'Like what you see? Visit the ' +\n",
              "            '<a target=\"_blank\" href=https://colab.research.google.com/notebooks/data_table.ipynb>data table notebook</a>'\n",
              "            + ' to learn more about interactive tables.';\n",
              "          element.innerHTML = '';\n",
              "          dataTable['output_type'] = 'display_data';\n",
              "          await google.colab.output.renderOutput(dataTable, element);\n",
              "          const docLink = document.createElement('div');\n",
              "          docLink.innerHTML = docLinkHtml;\n",
              "          element.appendChild(docLink);\n",
              "        }\n",
              "      </script>\n",
              "    </div>\n",
              "  </div>\n",
              "  "
            ],
            "text/plain": [
              "  age;\"job\";\"marital\";\"education\";\"default\";\"housing\";\"loan\";\"contact\";\"month\";\"day_of_week\";\"duration\";\"campaign\";\"pdays\";\"previous\";\"poutcome\";\"emp.var.rate\";\"cons.price.idx\";\"cons.conf.idx\";\"euribor3m\";\"nr.employed\";\"y\"  \\\n",
              "0  56;\"housemaid\";\"married\";\"basic.4y\";\"no\";\"no\";...                                                                                                                                                                             \n",
              "1  57;\"services\";\"married\";\"high.school\";\"unknown...                                                                                                                                                                             \n",
              "2  37;\"services\";\"married\";\"high.school\";\"no\";\"ye...                                                                                                                                                                             \n",
              "3  40;\"admin.\";\"married\";\"basic.6y\";\"no\";\"no\";\"no...                                                                                                                                                                             \n",
              "4  56;\"services\";\"married\";\"high.school\";\"no\";\"no...                                                                                                                                                                             \n",
              "\n",
              "  age          job    marital      education    default housing   loan  \\\n",
              "0  56  \"housemaid\"  \"married\"     \"basic.4y\"       \"no\"    \"no\"   \"no\"   \n",
              "1  57   \"services\"  \"married\"  \"high.school\"  \"unknown\"    \"no\"   \"no\"   \n",
              "2  37   \"services\"  \"married\"  \"high.school\"       \"no\"   \"yes\"   \"no\"   \n",
              "3  40     \"admin.\"  \"married\"     \"basic.6y\"       \"no\"    \"no\"   \"no\"   \n",
              "4  56   \"services\"  \"married\"  \"high.school\"       \"no\"    \"no\"  \"yes\"   \n",
              "\n",
              "       contact  month  ... campaign pdays previous       poutcome  \\\n",
              "0  \"telephone\"  \"may\"  ...        1   999        0  \"nonexistent\"   \n",
              "1  \"telephone\"  \"may\"  ...        1   999        0  \"nonexistent\"   \n",
              "2  \"telephone\"  \"may\"  ...        1   999        0  \"nonexistent\"   \n",
              "3  \"telephone\"  \"may\"  ...        1   999        0  \"nonexistent\"   \n",
              "4  \"telephone\"  \"may\"  ...        1   999        0  \"nonexistent\"   \n",
              "\n",
              "  emp.var.rate cons.price.idx cons.conf.idx euribor3m nr.employed     y  \n",
              "0          1.1         93.994         -36.4     4.857        5191  \"no\"  \n",
              "1          1.1         93.994         -36.4     4.857        5191  \"no\"  \n",
              "2          1.1         93.994         -36.4     4.857        5191  \"no\"  \n",
              "3          1.1         93.994         -36.4     4.857        5191  \"no\"  \n",
              "4          1.1         93.994         -36.4     4.857        5191  \"no\"  \n",
              "\n",
              "[5 rows x 22 columns]"
            ]
          },
          "execution_count": 133,
          "metadata": {},
          "output_type": "execute_result"
        }
      ],
      "source": [
        "df.head()"
      ]
    },
    {
      "cell_type": "code",
      "execution_count": null,
      "metadata": {
        "colab": {
          "base_uri": "https://localhost:8080/"
        },
        "id": "VBiQz93fvb9l",
        "outputId": "9d884472-74cb-4bac-b46d-302a447d72e1"
      },
      "outputs": [
        {
          "name": "stdout",
          "output_type": "stream",
          "text": [
            "      age            job    marital              education    default housing  \\\n",
            "0      56    \"housemaid\"  \"married\"             \"basic.4y\"       \"no\"    \"no\"   \n",
            "1      57     \"services\"  \"married\"          \"high.school\"  \"unknown\"    \"no\"   \n",
            "2      37     \"services\"  \"married\"          \"high.school\"       \"no\"   \"yes\"   \n",
            "3      40       \"admin.\"  \"married\"             \"basic.6y\"       \"no\"    \"no\"   \n",
            "4      56     \"services\"  \"married\"          \"high.school\"       \"no\"    \"no\"   \n",
            "...    ..            ...        ...                    ...        ...     ...   \n",
            "41183  73      \"retired\"  \"married\"  \"professional.course\"       \"no\"   \"yes\"   \n",
            "41184  46  \"blue-collar\"  \"married\"  \"professional.course\"       \"no\"    \"no\"   \n",
            "41185  56      \"retired\"  \"married\"    \"university.degree\"       \"no\"   \"yes\"   \n",
            "41186  44   \"technician\"  \"married\"  \"professional.course\"       \"no\"    \"no\"   \n",
            "41187  74      \"retired\"  \"married\"  \"professional.course\"       \"no\"   \"yes\"   \n",
            "\n",
            "        loan      contact  month day_of_week  ... campaign pdays previous  \\\n",
            "0       \"no\"  \"telephone\"  \"may\"       \"mon\"  ...        1   999        0   \n",
            "1       \"no\"  \"telephone\"  \"may\"       \"mon\"  ...        1   999        0   \n",
            "2       \"no\"  \"telephone\"  \"may\"       \"mon\"  ...        1   999        0   \n",
            "3       \"no\"  \"telephone\"  \"may\"       \"mon\"  ...        1   999        0   \n",
            "4      \"yes\"  \"telephone\"  \"may\"       \"mon\"  ...        1   999        0   \n",
            "...      ...          ...    ...         ...  ...      ...   ...      ...   \n",
            "41183   \"no\"   \"cellular\"  \"nov\"       \"fri\"  ...        1   999        0   \n",
            "41184   \"no\"   \"cellular\"  \"nov\"       \"fri\"  ...        1   999        0   \n",
            "41185   \"no\"   \"cellular\"  \"nov\"       \"fri\"  ...        2   999        0   \n",
            "41186   \"no\"   \"cellular\"  \"nov\"       \"fri\"  ...        1   999        0   \n",
            "41187   \"no\"   \"cellular\"  \"nov\"       \"fri\"  ...        3   999        1   \n",
            "\n",
            "            poutcome emp.var.rate cons.price.idx cons.conf.idx euribor3m  \\\n",
            "0      \"nonexistent\"          1.1         93.994         -36.4     4.857   \n",
            "1      \"nonexistent\"          1.1         93.994         -36.4     4.857   \n",
            "2      \"nonexistent\"          1.1         93.994         -36.4     4.857   \n",
            "3      \"nonexistent\"          1.1         93.994         -36.4     4.857   \n",
            "4      \"nonexistent\"          1.1         93.994         -36.4     4.857   \n",
            "...              ...          ...            ...           ...       ...   \n",
            "41183  \"nonexistent\"         -1.1         94.767         -50.8     1.028   \n",
            "41184  \"nonexistent\"         -1.1         94.767         -50.8     1.028   \n",
            "41185  \"nonexistent\"         -1.1         94.767         -50.8     1.028   \n",
            "41186  \"nonexistent\"         -1.1         94.767         -50.8     1.028   \n",
            "41187      \"failure\"         -1.1         94.767         -50.8     1.028   \n",
            "\n",
            "      nr.employed      y  \n",
            "0            5191   \"no\"  \n",
            "1            5191   \"no\"  \n",
            "2            5191   \"no\"  \n",
            "3            5191   \"no\"  \n",
            "4            5191   \"no\"  \n",
            "...           ...    ...  \n",
            "41183      4963.6  \"yes\"  \n",
            "41184      4963.6   \"no\"  \n",
            "41185      4963.6   \"no\"  \n",
            "41186      4963.6  \"yes\"  \n",
            "41187      4963.6   \"no\"  \n",
            "\n",
            "[41188 rows x 21 columns]\n"
          ]
        }
      ],
      "source": [
        "#delete the first column\n",
        "del df[df.columns[0]]\n",
        "print(df)"
      ]
    },
    {
      "cell_type": "code",
      "execution_count": null,
      "metadata": {
        "colab": {
          "base_uri": "https://localhost:8080/",
          "height": 235
        },
        "id": "e5L1Dgzcvt3l",
        "outputId": "71cdb08e-8133-443e-9920-8e89f3ba26a7"
      },
      "outputs": [
        {
          "data": {
            "text/html": [
              "\n",
              "  <div id=\"df-0184c119-5f60-43c0-8295-194d76c49faf\">\n",
              "    <div class=\"colab-df-container\">\n",
              "      <div>\n",
              "<style scoped>\n",
              "    .dataframe tbody tr th:only-of-type {\n",
              "        vertical-align: middle;\n",
              "    }\n",
              "\n",
              "    .dataframe tbody tr th {\n",
              "        vertical-align: top;\n",
              "    }\n",
              "\n",
              "    .dataframe thead th {\n",
              "        text-align: right;\n",
              "    }\n",
              "</style>\n",
              "<table border=\"1\" class=\"dataframe\">\n",
              "  <thead>\n",
              "    <tr style=\"text-align: right;\">\n",
              "      <th></th>\n",
              "      <th>age</th>\n",
              "      <th>job</th>\n",
              "      <th>marital</th>\n",
              "      <th>education</th>\n",
              "      <th>default</th>\n",
              "      <th>housing</th>\n",
              "      <th>loan</th>\n",
              "      <th>contact</th>\n",
              "      <th>month</th>\n",
              "      <th>day_of_week</th>\n",
              "      <th>...</th>\n",
              "      <th>campaign</th>\n",
              "      <th>pdays</th>\n",
              "      <th>previous</th>\n",
              "      <th>poutcome</th>\n",
              "      <th>emp.var.rate</th>\n",
              "      <th>cons.price.idx</th>\n",
              "      <th>cons.conf.idx</th>\n",
              "      <th>euribor3m</th>\n",
              "      <th>nr.employed</th>\n",
              "      <th>y</th>\n",
              "    </tr>\n",
              "  </thead>\n",
              "  <tbody>\n",
              "    <tr>\n",
              "      <th>0</th>\n",
              "      <td>56</td>\n",
              "      <td>\"housemaid\"</td>\n",
              "      <td>\"married\"</td>\n",
              "      <td>\"basic.4y\"</td>\n",
              "      <td>\"no\"</td>\n",
              "      <td>\"no\"</td>\n",
              "      <td>\"no\"</td>\n",
              "      <td>\"telephone\"</td>\n",
              "      <td>\"may\"</td>\n",
              "      <td>\"mon\"</td>\n",
              "      <td>...</td>\n",
              "      <td>1</td>\n",
              "      <td>999</td>\n",
              "      <td>0</td>\n",
              "      <td>\"nonexistent\"</td>\n",
              "      <td>1.1</td>\n",
              "      <td>93.994</td>\n",
              "      <td>-36.4</td>\n",
              "      <td>4.857</td>\n",
              "      <td>5191</td>\n",
              "      <td>\"no\"</td>\n",
              "    </tr>\n",
              "    <tr>\n",
              "      <th>1</th>\n",
              "      <td>57</td>\n",
              "      <td>\"services\"</td>\n",
              "      <td>\"married\"</td>\n",
              "      <td>\"high.school\"</td>\n",
              "      <td>\"unknown\"</td>\n",
              "      <td>\"no\"</td>\n",
              "      <td>\"no\"</td>\n",
              "      <td>\"telephone\"</td>\n",
              "      <td>\"may\"</td>\n",
              "      <td>\"mon\"</td>\n",
              "      <td>...</td>\n",
              "      <td>1</td>\n",
              "      <td>999</td>\n",
              "      <td>0</td>\n",
              "      <td>\"nonexistent\"</td>\n",
              "      <td>1.1</td>\n",
              "      <td>93.994</td>\n",
              "      <td>-36.4</td>\n",
              "      <td>4.857</td>\n",
              "      <td>5191</td>\n",
              "      <td>\"no\"</td>\n",
              "    </tr>\n",
              "    <tr>\n",
              "      <th>2</th>\n",
              "      <td>37</td>\n",
              "      <td>\"services\"</td>\n",
              "      <td>\"married\"</td>\n",
              "      <td>\"high.school\"</td>\n",
              "      <td>\"no\"</td>\n",
              "      <td>\"yes\"</td>\n",
              "      <td>\"no\"</td>\n",
              "      <td>\"telephone\"</td>\n",
              "      <td>\"may\"</td>\n",
              "      <td>\"mon\"</td>\n",
              "      <td>...</td>\n",
              "      <td>1</td>\n",
              "      <td>999</td>\n",
              "      <td>0</td>\n",
              "      <td>\"nonexistent\"</td>\n",
              "      <td>1.1</td>\n",
              "      <td>93.994</td>\n",
              "      <td>-36.4</td>\n",
              "      <td>4.857</td>\n",
              "      <td>5191</td>\n",
              "      <td>\"no\"</td>\n",
              "    </tr>\n",
              "    <tr>\n",
              "      <th>3</th>\n",
              "      <td>40</td>\n",
              "      <td>\"admin.\"</td>\n",
              "      <td>\"married\"</td>\n",
              "      <td>\"basic.6y\"</td>\n",
              "      <td>\"no\"</td>\n",
              "      <td>\"no\"</td>\n",
              "      <td>\"no\"</td>\n",
              "      <td>\"telephone\"</td>\n",
              "      <td>\"may\"</td>\n",
              "      <td>\"mon\"</td>\n",
              "      <td>...</td>\n",
              "      <td>1</td>\n",
              "      <td>999</td>\n",
              "      <td>0</td>\n",
              "      <td>\"nonexistent\"</td>\n",
              "      <td>1.1</td>\n",
              "      <td>93.994</td>\n",
              "      <td>-36.4</td>\n",
              "      <td>4.857</td>\n",
              "      <td>5191</td>\n",
              "      <td>\"no\"</td>\n",
              "    </tr>\n",
              "    <tr>\n",
              "      <th>4</th>\n",
              "      <td>56</td>\n",
              "      <td>\"services\"</td>\n",
              "      <td>\"married\"</td>\n",
              "      <td>\"high.school\"</td>\n",
              "      <td>\"no\"</td>\n",
              "      <td>\"no\"</td>\n",
              "      <td>\"yes\"</td>\n",
              "      <td>\"telephone\"</td>\n",
              "      <td>\"may\"</td>\n",
              "      <td>\"mon\"</td>\n",
              "      <td>...</td>\n",
              "      <td>1</td>\n",
              "      <td>999</td>\n",
              "      <td>0</td>\n",
              "      <td>\"nonexistent\"</td>\n",
              "      <td>1.1</td>\n",
              "      <td>93.994</td>\n",
              "      <td>-36.4</td>\n",
              "      <td>4.857</td>\n",
              "      <td>5191</td>\n",
              "      <td>\"no\"</td>\n",
              "    </tr>\n",
              "  </tbody>\n",
              "</table>\n",
              "<p>5 rows × 21 columns</p>\n",
              "</div>\n",
              "      <button class=\"colab-df-convert\" onclick=\"convertToInteractive('df-0184c119-5f60-43c0-8295-194d76c49faf')\"\n",
              "              title=\"Convert this dataframe to an interactive table.\"\n",
              "              style=\"display:none;\">\n",
              "        \n",
              "  <svg xmlns=\"http://www.w3.org/2000/svg\" height=\"24px\"viewBox=\"0 0 24 24\"\n",
              "       width=\"24px\">\n",
              "    <path d=\"M0 0h24v24H0V0z\" fill=\"none\"/>\n",
              "    <path d=\"M18.56 5.44l.94 2.06.94-2.06 2.06-.94-2.06-.94-.94-2.06-.94 2.06-2.06.94zm-11 1L8.5 8.5l.94-2.06 2.06-.94-2.06-.94L8.5 2.5l-.94 2.06-2.06.94zm10 10l.94 2.06.94-2.06 2.06-.94-2.06-.94-.94-2.06-.94 2.06-2.06.94z\"/><path d=\"M17.41 7.96l-1.37-1.37c-.4-.4-.92-.59-1.43-.59-.52 0-1.04.2-1.43.59L10.3 9.45l-7.72 7.72c-.78.78-.78 2.05 0 2.83L4 21.41c.39.39.9.59 1.41.59.51 0 1.02-.2 1.41-.59l7.78-7.78 2.81-2.81c.8-.78.8-2.07 0-2.86zM5.41 20L4 18.59l7.72-7.72 1.47 1.35L5.41 20z\"/>\n",
              "  </svg>\n",
              "      </button>\n",
              "      \n",
              "  <style>\n",
              "    .colab-df-container {\n",
              "      display:flex;\n",
              "      flex-wrap:wrap;\n",
              "      gap: 12px;\n",
              "    }\n",
              "\n",
              "    .colab-df-convert {\n",
              "      background-color: #E8F0FE;\n",
              "      border: none;\n",
              "      border-radius: 50%;\n",
              "      cursor: pointer;\n",
              "      display: none;\n",
              "      fill: #1967D2;\n",
              "      height: 32px;\n",
              "      padding: 0 0 0 0;\n",
              "      width: 32px;\n",
              "    }\n",
              "\n",
              "    .colab-df-convert:hover {\n",
              "      background-color: #E2EBFA;\n",
              "      box-shadow: 0px 1px 2px rgba(60, 64, 67, 0.3), 0px 1px 3px 1px rgba(60, 64, 67, 0.15);\n",
              "      fill: #174EA6;\n",
              "    }\n",
              "\n",
              "    [theme=dark] .colab-df-convert {\n",
              "      background-color: #3B4455;\n",
              "      fill: #D2E3FC;\n",
              "    }\n",
              "\n",
              "    [theme=dark] .colab-df-convert:hover {\n",
              "      background-color: #434B5C;\n",
              "      box-shadow: 0px 1px 3px 1px rgba(0, 0, 0, 0.15);\n",
              "      filter: drop-shadow(0px 1px 2px rgba(0, 0, 0, 0.3));\n",
              "      fill: #FFFFFF;\n",
              "    }\n",
              "  </style>\n",
              "\n",
              "      <script>\n",
              "        const buttonEl =\n",
              "          document.querySelector('#df-0184c119-5f60-43c0-8295-194d76c49faf button.colab-df-convert');\n",
              "        buttonEl.style.display =\n",
              "          google.colab.kernel.accessAllowed ? 'block' : 'none';\n",
              "\n",
              "        async function convertToInteractive(key) {\n",
              "          const element = document.querySelector('#df-0184c119-5f60-43c0-8295-194d76c49faf');\n",
              "          const dataTable =\n",
              "            await google.colab.kernel.invokeFunction('convertToInteractive',\n",
              "                                                     [key], {});\n",
              "          if (!dataTable) return;\n",
              "\n",
              "          const docLinkHtml = 'Like what you see? Visit the ' +\n",
              "            '<a target=\"_blank\" href=https://colab.research.google.com/notebooks/data_table.ipynb>data table notebook</a>'\n",
              "            + ' to learn more about interactive tables.';\n",
              "          element.innerHTML = '';\n",
              "          dataTable['output_type'] = 'display_data';\n",
              "          await google.colab.output.renderOutput(dataTable, element);\n",
              "          const docLink = document.createElement('div');\n",
              "          docLink.innerHTML = docLinkHtml;\n",
              "          element.appendChild(docLink);\n",
              "        }\n",
              "      </script>\n",
              "    </div>\n",
              "  </div>\n",
              "  "
            ],
            "text/plain": [
              "  age          job    marital      education    default housing   loan  \\\n",
              "0  56  \"housemaid\"  \"married\"     \"basic.4y\"       \"no\"    \"no\"   \"no\"   \n",
              "1  57   \"services\"  \"married\"  \"high.school\"  \"unknown\"    \"no\"   \"no\"   \n",
              "2  37   \"services\"  \"married\"  \"high.school\"       \"no\"   \"yes\"   \"no\"   \n",
              "3  40     \"admin.\"  \"married\"     \"basic.6y\"       \"no\"    \"no\"   \"no\"   \n",
              "4  56   \"services\"  \"married\"  \"high.school\"       \"no\"    \"no\"  \"yes\"   \n",
              "\n",
              "       contact  month day_of_week  ... campaign pdays previous       poutcome  \\\n",
              "0  \"telephone\"  \"may\"       \"mon\"  ...        1   999        0  \"nonexistent\"   \n",
              "1  \"telephone\"  \"may\"       \"mon\"  ...        1   999        0  \"nonexistent\"   \n",
              "2  \"telephone\"  \"may\"       \"mon\"  ...        1   999        0  \"nonexistent\"   \n",
              "3  \"telephone\"  \"may\"       \"mon\"  ...        1   999        0  \"nonexistent\"   \n",
              "4  \"telephone\"  \"may\"       \"mon\"  ...        1   999        0  \"nonexistent\"   \n",
              "\n",
              "  emp.var.rate cons.price.idx cons.conf.idx euribor3m nr.employed     y  \n",
              "0          1.1         93.994         -36.4     4.857        5191  \"no\"  \n",
              "1          1.1         93.994         -36.4     4.857        5191  \"no\"  \n",
              "2          1.1         93.994         -36.4     4.857        5191  \"no\"  \n",
              "3          1.1         93.994         -36.4     4.857        5191  \"no\"  \n",
              "4          1.1         93.994         -36.4     4.857        5191  \"no\"  \n",
              "\n",
              "[5 rows x 21 columns]"
            ]
          },
          "execution_count": 135,
          "metadata": {},
          "output_type": "execute_result"
        }
      ],
      "source": [
        "df.head()"
      ]
    },
    {
      "cell_type": "markdown",
      "metadata": {
        "id": "h_2-IpR_vz-c"
      },
      "source": [
        "Great, now we have the dataframe in a workable state... let's check it out "
      ]
    },
    {
      "cell_type": "code",
      "execution_count": null,
      "metadata": {
        "colab": {
          "base_uri": "https://localhost:8080/"
        },
        "id": "a9_9JgEJvu46",
        "outputId": "3bcfa425-30eb-4df1-e6f6-b01f8e774426"
      },
      "outputs": [
        {
          "name": "stdout",
          "output_type": "stream",
          "text": [
            "<class 'pandas.core.frame.DataFrame'>\n",
            "RangeIndex: 41188 entries, 0 to 41187\n",
            "Data columns (total 21 columns):\n",
            " #   Column          Non-Null Count  Dtype \n",
            "---  ------          --------------  ----- \n",
            " 0   age             41188 non-null  object\n",
            " 1   job             41188 non-null  object\n",
            " 2   marital         41188 non-null  object\n",
            " 3   education       41188 non-null  object\n",
            " 4   default         41188 non-null  object\n",
            " 5   housing         41188 non-null  object\n",
            " 6   loan            41188 non-null  object\n",
            " 7   contact         41188 non-null  object\n",
            " 8   month           41188 non-null  object\n",
            " 9   day_of_week     41188 non-null  object\n",
            " 10  duration        41188 non-null  object\n",
            " 11  campaign        41188 non-null  object\n",
            " 12  pdays           41188 non-null  object\n",
            " 13  previous        41188 non-null  object\n",
            " 14  poutcome        41188 non-null  object\n",
            " 15  emp.var.rate    41188 non-null  object\n",
            " 16  cons.price.idx  41188 non-null  object\n",
            " 17  cons.conf.idx   41188 non-null  object\n",
            " 18  euribor3m       41188 non-null  object\n",
            " 19  nr.employed     41188 non-null  object\n",
            " 20  y               41188 non-null  object\n",
            "dtypes: object(21)\n",
            "memory usage: 6.6+ MB\n"
          ]
        }
      ],
      "source": [
        "df.info()"
      ]
    },
    {
      "cell_type": "code",
      "execution_count": null,
      "metadata": {
        "colab": {
          "base_uri": "https://localhost:8080/"
        },
        "id": "vTeYsfxvzgEF",
        "outputId": "29148d10-fa3a-41e2-9c1b-ed2897725e63"
      },
      "outputs": [
        {
          "name": "stdout",
          "output_type": "stream",
          "text": [
            "['1.1' '1.4' '-0.1' '-0.2' '-1.8' '-2.9' '-3.4' '-3' '-1.7' '-1.1']\n"
          ]
        }
      ],
      "source": [
        "print(df['emp.var.rate'].unique())"
      ]
    },
    {
      "cell_type": "code",
      "execution_count": null,
      "metadata": {
        "colab": {
          "base_uri": "https://localhost:8080/"
        },
        "id": "yhjNF0zLzxLK",
        "outputId": "fe837885-8c9b-403c-f08d-c7b99ac5fd50"
      },
      "outputs": [
        {
          "name": "stdout",
          "output_type": "stream",
          "text": [
            "['93.994' '94.465' '93.918' '93.444' '93.798' '93.2' '92.756' '92.843'\n",
            " '93.075' '92.893' '92.963' '92.469' '92.201' '92.379' '92.431' '92.649'\n",
            " '92.713' '93.369' '93.749' '93.876' '94.055' '94.215' '94.027' '94.199'\n",
            " '94.601' '94.767']\n"
          ]
        }
      ],
      "source": [
        "print(df['cons.price.idx'].unique())"
      ]
    },
    {
      "cell_type": "code",
      "execution_count": null,
      "metadata": {
        "colab": {
          "base_uri": "https://localhost:8080/"
        },
        "id": "njnLayyQ2XDx",
        "outputId": "e63cd2e1-bc05-49ee-86f0-89aa01dff872"
      },
      "outputs": [
        {
          "name": "stdout",
          "output_type": "stream",
          "text": [
            "['1' '2' '3' '4' '5' '6' '7' '8' '9' '10' '11' '12' '13' '19' '18' '23'\n",
            " '14' '22' '25' '16' '17' '15' '20' '56' '39' '35' '42' '28' '26' '27'\n",
            " '32' '21' '24' '29' '31' '30' '41' '37' '40' '33' '34' '43']\n"
          ]
        }
      ],
      "source": [
        "print(df['campaign'].unique())"
      ]
    },
    {
      "cell_type": "code",
      "execution_count": null,
      "metadata": {
        "colab": {
          "base_uri": "https://localhost:8080/"
        },
        "id": "uCDRDkzlBAy3",
        "outputId": "1e9cc178-8946-42b8-8693-20942595c582"
      },
      "outputs": [
        {
          "name": "stdout",
          "output_type": "stream",
          "text": [
            "['\"may\"' '\"jun\"' '\"jul\"' '\"aug\"' '\"oct\"' '\"nov\"' '\"dec\"' '\"mar\"' '\"apr\"'\n",
            " '\"sep\"']\n"
          ]
        }
      ],
      "source": [
        "print(df['month'].unique())"
      ]
    },
    {
      "cell_type": "code",
      "execution_count": null,
      "metadata": {
        "colab": {
          "base_uri": "https://localhost:8080/"
        },
        "id": "LYfGxaZJz92A",
        "outputId": "a80946a1-ab1c-4c26-a253-294cec66237c"
      },
      "outputs": [
        {
          "name": "stdout",
          "output_type": "stream",
          "text": [
            "['-36.4' '-41.8' '-42.7' '-36.1' '-40.4' '-42' '-45.9' '-50' '-47.1'\n",
            " '-46.2' '-40.8' '-33.6' '-31.4' '-29.8' '-26.9' '-30.1' '-33' '-34.8'\n",
            " '-34.6' '-40' '-39.8' '-40.3' '-38.3' '-37.5' '-49.5' '-50.8']\n"
          ]
        }
      ],
      "source": [
        "print(df['cons.conf.idx'].unique())"
      ]
    },
    {
      "cell_type": "code",
      "execution_count": null,
      "metadata": {
        "colab": {
          "base_uri": "https://localhost:8080/"
        },
        "id": "e-NJbbG40Qsa",
        "outputId": "6002e6ca-9886-4a4a-8e59-13de6071f745"
      },
      "outputs": [
        {
          "name": "stdout",
          "output_type": "stream",
          "text": [
            "['4.857' '4.856' '4.855' '4.859' '4.86' '4.858' '4.864' '4.865' '4.866'\n",
            " '4.967' '4.961' '4.959' '4.958' '4.96' '4.962' '4.955' '4.947' '4.956'\n",
            " '4.966' '4.963' '4.957' '4.968' '4.97' '4.965' '4.964' '5.045' '5'\n",
            " '4.936' '4.921' '4.918' '4.912' '4.827' '4.794' '4.76' '4.733' '4.7'\n",
            " '4.663' '4.592' '4.474' '4.406' '4.343' '4.286' '4.245' '4.223' '4.191'\n",
            " '4.153' '4.12' '4.076' '4.021' '3.901' '3.879' '3.853' '3.816' '3.743'\n",
            " '3.669' '3.563' '3.488' '3.428' '3.329' '3.282' '3.053' '1.811' '1.799'\n",
            " '1.778' '1.757' '1.726' '1.703' '1.687' '1.663' '1.65' '1.64' '1.629'\n",
            " '1.614' '1.602' '1.584' '1.574' '1.56' '1.556' '1.548' '1.538' '1.531'\n",
            " '1.52' '1.51' '1.498' '1.483' '1.479' '1.466' '1.453' '1.445' '1.435'\n",
            " '1.423' '1.415' '1.41' '1.405' '1.406' '1.4' '1.392' '1.384' '1.372'\n",
            " '1.365' '1.354' '1.344' '1.334' '1.327' '1.313' '1.299' '1.291' '1.281'\n",
            " '1.266' '1.25' '1.244' '1.259' '1.264' '1.27' '1.262' '1.26' '1.268'\n",
            " '1.286' '1.252' '1.235' '1.224' '1.215' '1.206' '1.099' '1.085' '1.072'\n",
            " '1.059' '1.048' '1.044' '1.029' '1.018' '1.007' '0.996' '0.979' '0.969'\n",
            " '0.944' '0.937' '0.933' '0.927' '0.921' '0.914' '0.908' '0.903' '0.899'\n",
            " '0.884' '0.883' '0.881' '0.879' '0.873' '0.869' '0.861' '0.859' '0.854'\n",
            " '0.851' '0.849' '0.843' '0.838' '0.834' '0.829' '0.825' '0.821' '0.819'\n",
            " '0.813' '0.809' '0.803' '0.797' '0.788' '0.781' '0.778' '0.773' '0.771'\n",
            " '0.77' '0.768' '0.766' '0.762' '0.755' '0.749' '0.743' '0.741' '0.739'\n",
            " '0.75' '0.753' '0.754' '0.752' '0.744' '0.74' '0.742' '0.737' '0.735'\n",
            " '0.733' '0.73' '0.731' '0.728' '0.724' '0.722' '0.72' '0.719' '0.716'\n",
            " '0.715' '0.714' '0.718' '0.721' '0.717' '0.712' '0.71' '0.709' '0.708'\n",
            " '0.706' '0.707' '0.7' '0.655' '0.654' '0.653' '0.652' '0.651' '0.65'\n",
            " '0.649' '0.646' '0.644' '0.643' '0.639' '0.637' '0.635' '0.636' '0.634'\n",
            " '0.638' '0.64' '0.642' '0.645' '0.659' '0.663' '0.668' '0.672' '0.677'\n",
            " '0.682' '0.683' '0.684' '0.685' '0.688' '0.69' '0.692' '0.695' '0.697'\n",
            " '0.699' '0.701' '0.702' '0.704' '0.711' '0.713' '0.723' '0.727' '0.729'\n",
            " '0.732' '0.748' '0.761' '0.767' '0.782' '0.79' '0.793' '0.802' '0.81'\n",
            " '0.822' '0.827' '0.835' '0.84' '0.846' '0.87' '0.876' '0.885' '0.889'\n",
            " '0.893' '0.896' '0.898' '0.9' '0.904' '0.905' '0.895' '0.894' '0.891'\n",
            " '0.89' '0.888' '0.886' '0.882' '0.88' '0.878' '0.877' '0.942' '0.953'\n",
            " '0.956' '0.959' '0.965' '0.972' '0.977' '0.982' '0.985' '0.987' '0.993'\n",
            " '1' '1.008' '1.016' '1.025' '1.032' '1.037' '1.043' '1.045' '1.047'\n",
            " '1.05' '1.049' '1.046' '1.041' '1.04' '1.039' '1.035' '1.03' '1.031'\n",
            " '1.028']\n"
          ]
        }
      ],
      "source": [
        "print(df['euribor3m'].unique())"
      ]
    },
    {
      "cell_type": "code",
      "execution_count": null,
      "metadata": {
        "colab": {
          "base_uri": "https://localhost:8080/"
        },
        "id": "X5_PVJKM0rJT",
        "outputId": "b77def3e-7037-4398-99da-43080a13dbc6"
      },
      "outputs": [
        {
          "name": "stdout",
          "output_type": "stream",
          "text": [
            "['5191' '5228.1' '5195.8' '5176.3' '5099.1' '5076.2' '5017.5' '5023.5'\n",
            " '5008.7' '4991.6' '4963.6']\n"
          ]
        }
      ],
      "source": [
        "print(df['nr.employed'].unique())"
      ]
    },
    {
      "cell_type": "code",
      "execution_count": null,
      "metadata": {
        "colab": {
          "base_uri": "https://localhost:8080/"
        },
        "id": "zrBScjPV002s",
        "outputId": "544d960a-658a-492e-d22c-d354d28b6c88"
      },
      "outputs": [
        {
          "name": "stdout",
          "output_type": "stream",
          "text": [
            "['\"nonexistent\"' '\"failure\"' '\"success\"']\n"
          ]
        }
      ],
      "source": [
        "print(df['poutcome'].unique())"
      ]
    },
    {
      "cell_type": "code",
      "execution_count": null,
      "metadata": {
        "colab": {
          "base_uri": "https://localhost:8080/"
        },
        "id": "d_Gw2jhAwKFt",
        "outputId": "96ebfd61-fda0-4935-e7bb-69202472b4af"
      },
      "outputs": [
        {
          "name": "stdout",
          "output_type": "stream",
          "text": [
            "<class 'pandas.core.frame.DataFrame'>\n",
            "RangeIndex: 41188 entries, 0 to 41187\n",
            "Data columns (total 21 columns):\n",
            " #   Column          Non-Null Count  Dtype  \n",
            "---  ------          --------------  -----  \n",
            " 0   age             41188 non-null  int64  \n",
            " 1   job             41188 non-null  object \n",
            " 2   marital         41188 non-null  object \n",
            " 3   education       41188 non-null  object \n",
            " 4   default         41188 non-null  object \n",
            " 5   housing         41188 non-null  object \n",
            " 6   loan            41188 non-null  object \n",
            " 7   contact         41188 non-null  object \n",
            " 8   month           41188 non-null  object \n",
            " 9   day_of_week     41188 non-null  object \n",
            " 10  duration        41188 non-null  int64  \n",
            " 11  campaign        41188 non-null  int64  \n",
            " 12  pdays           41188 non-null  int64  \n",
            " 13  previous        41188 non-null  int64  \n",
            " 14  poutcome        41188 non-null  object \n",
            " 15  emp.var.rate    41188 non-null  float64\n",
            " 16  cons.price.idx  41188 non-null  float64\n",
            " 17  cons.conf.idx   41188 non-null  float64\n",
            " 18  euribor3m       41188 non-null  float64\n",
            " 19  nr.employed     41188 non-null  float64\n",
            " 20  y               41188 non-null  object \n",
            "dtypes: float64(5), int64(5), object(11)\n",
            "memory usage: 6.6+ MB\n"
          ]
        }
      ],
      "source": [
        "#convert age, duration, , to numeric columns\n",
        "numerics = [\"age\",\"duration\", 'pdays', 'euribor3m', 'campaign', 'previous', 'emp.var.rate', 'cons.price.idx', 'cons.conf.idx', 'nr.employed']\n",
        "for col in numerics:\n",
        "    df[col] = pd.to_numeric(df[col], errors='coerce')\n",
        "    \n",
        "df.info()"
      ]
    },
    {
      "cell_type": "code",
      "execution_count": null,
      "metadata": {
        "colab": {
          "base_uri": "https://localhost:8080/"
        },
        "id": "Z7t0-YT8wmSv",
        "outputId": "466799f1-a0ce-4507-8698-5e640d09ccb2"
      },
      "outputs": [
        {
          "name": "stdout",
          "output_type": "stream",
          "text": [
            "<class 'pandas.core.frame.DataFrame'>\n",
            "RangeIndex: 41188 entries, 0 to 41187\n",
            "Data columns (total 21 columns):\n",
            " #   Column          Non-Null Count  Dtype   \n",
            "---  ------          --------------  -----   \n",
            " 0   age             41188 non-null  int64   \n",
            " 1   job             41188 non-null  category\n",
            " 2   marital         41188 non-null  category\n",
            " 3   education       41188 non-null  category\n",
            " 4   default         41188 non-null  category\n",
            " 5   housing         41188 non-null  category\n",
            " 6   loan            41188 non-null  category\n",
            " 7   contact         41188 non-null  category\n",
            " 8   month           41188 non-null  category\n",
            " 9   day_of_week     41188 non-null  category\n",
            " 10  duration        41188 non-null  int64   \n",
            " 11  campaign        41188 non-null  int64   \n",
            " 12  pdays           41188 non-null  int64   \n",
            " 13  previous        41188 non-null  int64   \n",
            " 14  poutcome        41188 non-null  category\n",
            " 15  emp.var.rate    41188 non-null  float64 \n",
            " 16  cons.price.idx  41188 non-null  float64 \n",
            " 17  cons.conf.idx   41188 non-null  float64 \n",
            " 18  euribor3m       41188 non-null  float64 \n",
            " 19  nr.employed     41188 non-null  float64 \n",
            " 20  y               41188 non-null  category\n",
            "dtypes: category(11), float64(5), int64(5)\n",
            "memory usage: 3.6 MB\n"
          ]
        }
      ],
      "source": [
        "#convert _job, marital, education,default, housing, loan, contact, month, day-of-week,_campaign, pdays, previous, emp.var.rate, cons.price.idx, cons.conf.idx, euribor3m, nr.employed, y__ columns to categorical \n",
        "columns = [\"job\",\"marital\",'education', 'default','housing','loan','contact', 'month', 'day_of_week','poutcome', 'y']\n",
        "for col in columns:\n",
        "    df[col] = df[col].astype('category')\n",
        "df.info()"
      ]
    },
    {
      "cell_type": "code",
      "execution_count": null,
      "metadata": {
        "colab": {
          "base_uri": "https://localhost:8080/"
        },
        "id": "a2KbkF0o2RA7",
        "outputId": "a90451ac-fbb9-4e97-bb9f-2b2eaf94b6d3"
      },
      "outputs": [
        {
          "data": {
            "text/plain": [
              "age                 78\n",
              "job                 12\n",
              "marital              4\n",
              "education            8\n",
              "default              3\n",
              "housing              3\n",
              "loan                 3\n",
              "contact              2\n",
              "month               10\n",
              "day_of_week          5\n",
              "duration          1544\n",
              "campaign            42\n",
              "pdays               27\n",
              "previous             8\n",
              "poutcome             3\n",
              "emp.var.rate        10\n",
              "cons.price.idx      26\n",
              "cons.conf.idx       26\n",
              "euribor3m          316\n",
              "nr.employed         11\n",
              "y                    2\n",
              "dtype: int64"
            ]
          },
          "execution_count": 147,
          "metadata": {},
          "output_type": "execute_result"
        }
      ],
      "source": [
        "#Check for unique values in different columns\n",
        "df.nunique()"
      ]
    },
    {
      "cell_type": "code",
      "execution_count": null,
      "metadata": {
        "colab": {
          "background_save": true
        },
        "id": "VXMhKGnC2RS4",
        "outputId": "17dd0265-5c12-48d5-8914-8069bc4318da"
      },
      "outputs": [
        {
          "data": {
            "text/plain": [
              "age               0\n",
              "job               0\n",
              "marital           0\n",
              "education         0\n",
              "default           0\n",
              "housing           0\n",
              "loan              0\n",
              "contact           0\n",
              "month             0\n",
              "day_of_week       0\n",
              "duration          0\n",
              "campaign          0\n",
              "pdays             0\n",
              "previous          0\n",
              "poutcome          0\n",
              "emp.var.rate      0\n",
              "cons.price.idx    0\n",
              "cons.conf.idx     0\n",
              "euribor3m         0\n",
              "nr.employed       0\n",
              "y                 0\n",
              "dtype: int64"
            ]
          },
          "execution_count": 148,
          "metadata": {},
          "output_type": "execute_result"
        }
      ],
      "source": [
        "#Check for null values in columns \n",
        "df.isna().sum()"
      ]
    },
    {
      "cell_type": "markdown",
      "metadata": {
        "id": "tND15gPS4Hrt"
      },
      "source": [
        "No explicitly NaN values"
      ]
    },
    {
      "cell_type": "code",
      "execution_count": null,
      "metadata": {
        "colab": {
          "background_save": true
        },
        "id": "nyRWxu_731dl",
        "outputId": "972067e2-7c4b-4147-8caf-69513dd975bb"
      },
      "outputs": [
        {
          "data": {
            "text/plain": [
              "age               0\n",
              "job               0\n",
              "marital           0\n",
              "education         0\n",
              "default           0\n",
              "housing           0\n",
              "loan              0\n",
              "contact           0\n",
              "month             0\n",
              "day_of_week       0\n",
              "duration          0\n",
              "campaign          0\n",
              "pdays             0\n",
              "previous          0\n",
              "poutcome          0\n",
              "emp.var.rate      0\n",
              "cons.price.idx    0\n",
              "cons.conf.idx     0\n",
              "euribor3m         0\n",
              "nr.employed       0\n",
              "y                 0\n",
              "dtype: int64"
            ]
          },
          "execution_count": 149,
          "metadata": {},
          "output_type": "execute_result"
        }
      ],
      "source": [
        "#see if null values were showing up as \" \" as opposed to \"NaN\"\n",
        "df.replace(' ', np.nan, inplace=True)\n",
        "df.isna().sum()"
      ]
    },
    {
      "cell_type": "markdown",
      "metadata": {
        "id": "smKAJYKT4Goy"
      },
      "source": [
        "Nope "
      ]
    },
    {
      "cell_type": "code",
      "execution_count": null,
      "metadata": {
        "colab": {
          "background_save": true
        },
        "id": "gzh0RlcU4Orv",
        "outputId": "6307bfa2-9d07-4741-9981-05a83d94959e"
      },
      "outputs": [
        {
          "data": {
            "text/plain": [
              "12"
            ]
          },
          "execution_count": 150,
          "metadata": {},
          "output_type": "execute_result"
        }
      ],
      "source": [
        "#check for duplicates \n",
        "sum(df.duplicated())\n",
        "\n"
      ]
    },
    {
      "cell_type": "markdown",
      "metadata": {
        "id": "Eg6gtS294bdY"
      },
      "source": [
        "12 rows are complete duplicates "
      ]
    },
    {
      "cell_type": "code",
      "execution_count": null,
      "metadata": {
        "colab": {
          "background_save": true
        },
        "id": "JTtIjTnL4QxT"
      },
      "outputs": [],
      "source": [
        "#Drop duplicates \n",
        "df.drop_duplicates(inplace=True)"
      ]
    },
    {
      "cell_type": "code",
      "execution_count": null,
      "metadata": {
        "colab": {
          "background_save": true
        },
        "id": "woYnfmCv4XE6",
        "outputId": "71a95273-c30b-4913-8ae1-771667c01e08"
      },
      "outputs": [
        {
          "data": {
            "text/plain": [
              "0"
            ]
          },
          "execution_count": 152,
          "metadata": {},
          "output_type": "execute_result"
        }
      ],
      "source": [
        "#Re check for duplicates \n",
        "sum(df.duplicated())\n"
      ]
    },
    {
      "cell_type": "code",
      "execution_count": null,
      "metadata": {
        "colab": {
          "background_save": true
        },
        "id": "PZNWF8Uf4XQq",
        "outputId": "f7ed742f-c345-406a-cbbe-911904cea7f6"
      },
      "outputs": [
        {
          "data": {
            "text/html": [
              "\n",
              "  <div id=\"df-31987868-8104-481e-ae0f-87d150c4d552\">\n",
              "    <div class=\"colab-df-container\">\n",
              "      <div>\n",
              "<style scoped>\n",
              "    .dataframe tbody tr th:only-of-type {\n",
              "        vertical-align: middle;\n",
              "    }\n",
              "\n",
              "    .dataframe tbody tr th {\n",
              "        vertical-align: top;\n",
              "    }\n",
              "\n",
              "    .dataframe thead th {\n",
              "        text-align: right;\n",
              "    }\n",
              "</style>\n",
              "<table border=\"1\" class=\"dataframe\">\n",
              "  <thead>\n",
              "    <tr style=\"text-align: right;\">\n",
              "      <th></th>\n",
              "      <th>count</th>\n",
              "      <th>mean</th>\n",
              "      <th>std</th>\n",
              "      <th>min</th>\n",
              "      <th>25%</th>\n",
              "      <th>50%</th>\n",
              "      <th>75%</th>\n",
              "      <th>max</th>\n",
              "    </tr>\n",
              "  </thead>\n",
              "  <tbody>\n",
              "    <tr>\n",
              "      <th>age</th>\n",
              "      <td>41176.0</td>\n",
              "      <td>40.023800</td>\n",
              "      <td>10.420680</td>\n",
              "      <td>17.000</td>\n",
              "      <td>32.000</td>\n",
              "      <td>38.000</td>\n",
              "      <td>47.000</td>\n",
              "      <td>98.000</td>\n",
              "    </tr>\n",
              "    <tr>\n",
              "      <th>duration</th>\n",
              "      <td>41176.0</td>\n",
              "      <td>258.315815</td>\n",
              "      <td>259.305321</td>\n",
              "      <td>0.000</td>\n",
              "      <td>102.000</td>\n",
              "      <td>180.000</td>\n",
              "      <td>319.000</td>\n",
              "      <td>4918.000</td>\n",
              "    </tr>\n",
              "    <tr>\n",
              "      <th>campaign</th>\n",
              "      <td>41176.0</td>\n",
              "      <td>2.567879</td>\n",
              "      <td>2.770318</td>\n",
              "      <td>1.000</td>\n",
              "      <td>1.000</td>\n",
              "      <td>2.000</td>\n",
              "      <td>3.000</td>\n",
              "      <td>56.000</td>\n",
              "    </tr>\n",
              "    <tr>\n",
              "      <th>pdays</th>\n",
              "      <td>41176.0</td>\n",
              "      <td>962.464810</td>\n",
              "      <td>186.937102</td>\n",
              "      <td>0.000</td>\n",
              "      <td>999.000</td>\n",
              "      <td>999.000</td>\n",
              "      <td>999.000</td>\n",
              "      <td>999.000</td>\n",
              "    </tr>\n",
              "    <tr>\n",
              "      <th>previous</th>\n",
              "      <td>41176.0</td>\n",
              "      <td>0.173013</td>\n",
              "      <td>0.494964</td>\n",
              "      <td>0.000</td>\n",
              "      <td>0.000</td>\n",
              "      <td>0.000</td>\n",
              "      <td>0.000</td>\n",
              "      <td>7.000</td>\n",
              "    </tr>\n",
              "    <tr>\n",
              "      <th>emp.var.rate</th>\n",
              "      <td>41176.0</td>\n",
              "      <td>0.081922</td>\n",
              "      <td>1.570883</td>\n",
              "      <td>-3.400</td>\n",
              "      <td>-1.800</td>\n",
              "      <td>1.100</td>\n",
              "      <td>1.400</td>\n",
              "      <td>1.400</td>\n",
              "    </tr>\n",
              "    <tr>\n",
              "      <th>cons.price.idx</th>\n",
              "      <td>41176.0</td>\n",
              "      <td>93.575720</td>\n",
              "      <td>0.578839</td>\n",
              "      <td>92.201</td>\n",
              "      <td>93.075</td>\n",
              "      <td>93.749</td>\n",
              "      <td>93.994</td>\n",
              "      <td>94.767</td>\n",
              "    </tr>\n",
              "    <tr>\n",
              "      <th>cons.conf.idx</th>\n",
              "      <td>41176.0</td>\n",
              "      <td>-40.502863</td>\n",
              "      <td>4.627860</td>\n",
              "      <td>-50.800</td>\n",
              "      <td>-42.700</td>\n",
              "      <td>-41.800</td>\n",
              "      <td>-36.400</td>\n",
              "      <td>-26.900</td>\n",
              "    </tr>\n",
              "    <tr>\n",
              "      <th>euribor3m</th>\n",
              "      <td>41176.0</td>\n",
              "      <td>3.621293</td>\n",
              "      <td>1.734437</td>\n",
              "      <td>0.634</td>\n",
              "      <td>1.344</td>\n",
              "      <td>4.857</td>\n",
              "      <td>4.961</td>\n",
              "      <td>5.045</td>\n",
              "    </tr>\n",
              "    <tr>\n",
              "      <th>nr.employed</th>\n",
              "      <td>41176.0</td>\n",
              "      <td>5167.034870</td>\n",
              "      <td>72.251364</td>\n",
              "      <td>4963.600</td>\n",
              "      <td>5099.100</td>\n",
              "      <td>5191.000</td>\n",
              "      <td>5228.100</td>\n",
              "      <td>5228.100</td>\n",
              "    </tr>\n",
              "  </tbody>\n",
              "</table>\n",
              "</div>\n",
              "      <button class=\"colab-df-convert\" onclick=\"convertToInteractive('df-31987868-8104-481e-ae0f-87d150c4d552')\"\n",
              "              title=\"Convert this dataframe to an interactive table.\"\n",
              "              style=\"display:none;\">\n",
              "        \n",
              "  <svg xmlns=\"http://www.w3.org/2000/svg\" height=\"24px\"viewBox=\"0 0 24 24\"\n",
              "       width=\"24px\">\n",
              "    <path d=\"M0 0h24v24H0V0z\" fill=\"none\"/>\n",
              "    <path d=\"M18.56 5.44l.94 2.06.94-2.06 2.06-.94-2.06-.94-.94-2.06-.94 2.06-2.06.94zm-11 1L8.5 8.5l.94-2.06 2.06-.94-2.06-.94L8.5 2.5l-.94 2.06-2.06.94zm10 10l.94 2.06.94-2.06 2.06-.94-2.06-.94-.94-2.06-.94 2.06-2.06.94z\"/><path d=\"M17.41 7.96l-1.37-1.37c-.4-.4-.92-.59-1.43-.59-.52 0-1.04.2-1.43.59L10.3 9.45l-7.72 7.72c-.78.78-.78 2.05 0 2.83L4 21.41c.39.39.9.59 1.41.59.51 0 1.02-.2 1.41-.59l7.78-7.78 2.81-2.81c.8-.78.8-2.07 0-2.86zM5.41 20L4 18.59l7.72-7.72 1.47 1.35L5.41 20z\"/>\n",
              "  </svg>\n",
              "      </button>\n",
              "      \n",
              "  <style>\n",
              "    .colab-df-container {\n",
              "      display:flex;\n",
              "      flex-wrap:wrap;\n",
              "      gap: 12px;\n",
              "    }\n",
              "\n",
              "    .colab-df-convert {\n",
              "      background-color: #E8F0FE;\n",
              "      border: none;\n",
              "      border-radius: 50%;\n",
              "      cursor: pointer;\n",
              "      display: none;\n",
              "      fill: #1967D2;\n",
              "      height: 32px;\n",
              "      padding: 0 0 0 0;\n",
              "      width: 32px;\n",
              "    }\n",
              "\n",
              "    .colab-df-convert:hover {\n",
              "      background-color: #E2EBFA;\n",
              "      box-shadow: 0px 1px 2px rgba(60, 64, 67, 0.3), 0px 1px 3px 1px rgba(60, 64, 67, 0.15);\n",
              "      fill: #174EA6;\n",
              "    }\n",
              "\n",
              "    [theme=dark] .colab-df-convert {\n",
              "      background-color: #3B4455;\n",
              "      fill: #D2E3FC;\n",
              "    }\n",
              "\n",
              "    [theme=dark] .colab-df-convert:hover {\n",
              "      background-color: #434B5C;\n",
              "      box-shadow: 0px 1px 3px 1px rgba(0, 0, 0, 0.15);\n",
              "      filter: drop-shadow(0px 1px 2px rgba(0, 0, 0, 0.3));\n",
              "      fill: #FFFFFF;\n",
              "    }\n",
              "  </style>\n",
              "\n",
              "      <script>\n",
              "        const buttonEl =\n",
              "          document.querySelector('#df-31987868-8104-481e-ae0f-87d150c4d552 button.colab-df-convert');\n",
              "        buttonEl.style.display =\n",
              "          google.colab.kernel.accessAllowed ? 'block' : 'none';\n",
              "\n",
              "        async function convertToInteractive(key) {\n",
              "          const element = document.querySelector('#df-31987868-8104-481e-ae0f-87d150c4d552');\n",
              "          const dataTable =\n",
              "            await google.colab.kernel.invokeFunction('convertToInteractive',\n",
              "                                                     [key], {});\n",
              "          if (!dataTable) return;\n",
              "\n",
              "          const docLinkHtml = 'Like what you see? Visit the ' +\n",
              "            '<a target=\"_blank\" href=https://colab.research.google.com/notebooks/data_table.ipynb>data table notebook</a>'\n",
              "            + ' to learn more about interactive tables.';\n",
              "          element.innerHTML = '';\n",
              "          dataTable['output_type'] = 'display_data';\n",
              "          await google.colab.output.renderOutput(dataTable, element);\n",
              "          const docLink = document.createElement('div');\n",
              "          docLink.innerHTML = docLinkHtml;\n",
              "          element.appendChild(docLink);\n",
              "        }\n",
              "      </script>\n",
              "    </div>\n",
              "  </div>\n",
              "  "
            ],
            "text/plain": [
              "                  count         mean         std       min       25%  \\\n",
              "age             41176.0    40.023800   10.420680    17.000    32.000   \n",
              "duration        41176.0   258.315815  259.305321     0.000   102.000   \n",
              "campaign        41176.0     2.567879    2.770318     1.000     1.000   \n",
              "pdays           41176.0   962.464810  186.937102     0.000   999.000   \n",
              "previous        41176.0     0.173013    0.494964     0.000     0.000   \n",
              "emp.var.rate    41176.0     0.081922    1.570883    -3.400    -1.800   \n",
              "cons.price.idx  41176.0    93.575720    0.578839    92.201    93.075   \n",
              "cons.conf.idx   41176.0   -40.502863    4.627860   -50.800   -42.700   \n",
              "euribor3m       41176.0     3.621293    1.734437     0.634     1.344   \n",
              "nr.employed     41176.0  5167.034870   72.251364  4963.600  5099.100   \n",
              "\n",
              "                     50%       75%       max  \n",
              "age               38.000    47.000    98.000  \n",
              "duration         180.000   319.000  4918.000  \n",
              "campaign           2.000     3.000    56.000  \n",
              "pdays            999.000   999.000   999.000  \n",
              "previous           0.000     0.000     7.000  \n",
              "emp.var.rate       1.100     1.400     1.400  \n",
              "cons.price.idx    93.749    93.994    94.767  \n",
              "cons.conf.idx    -41.800   -36.400   -26.900  \n",
              "euribor3m          4.857     4.961     5.045  \n",
              "nr.employed     5191.000  5228.100  5228.100  "
            ]
          },
          "execution_count": 153,
          "metadata": {},
          "output_type": "execute_result"
        }
      ],
      "source": [
        "#check to see whether the basic statistics make sense \n",
        "df.describe().transpose()"
      ]
    },
    {
      "cell_type": "code",
      "execution_count": null,
      "metadata": {
        "colab": {
          "background_save": true
        },
        "id": "1yY97Zt38ezV",
        "outputId": "776c6542-260a-4fcc-dd6c-6147283213fe"
      },
      "outputs": [
        {
          "data": {
            "text/plain": [
              "count    41176.000000\n",
              "mean       258.315815\n",
              "std        259.305321\n",
              "min          0.000000\n",
              "25%        102.000000\n",
              "50%        180.000000\n",
              "75%        319.000000\n",
              "max       4918.000000\n",
              "Name: duration, dtype: float64"
            ]
          },
          "execution_count": 154,
          "metadata": {},
          "output_type": "execute_result"
        }
      ],
      "source": [
        "# 0 values for 'previous' and 'pdays' could make sense... but maybe not 'duration column'.... check out 'duration' column \n",
        "df['duration'].describe()"
      ]
    },
    {
      "cell_type": "markdown",
      "metadata": {
        "id": "3GD2JEJK70W7"
      },
      "source": [
        "4918s max duraiton seems too high ... drop any row that has a duration more than 1 hour "
      ]
    },
    {
      "cell_type": "code",
      "execution_count": null,
      "metadata": {
        "colab": {
          "background_save": true
        },
        "id": "XD4LPy84D7sT",
        "outputId": "57e9fa19-e901-4d42-986c-a9cf2127fa04"
      },
      "outputs": [
        {
          "data": {
            "text/plain": [
              "7727     3631\n",
              "13820    3643\n",
              "22192    4199\n",
              "24091    4918\n",
              "40537    3785\n",
              "Name: duration, dtype: int64"
            ]
          },
          "execution_count": 155,
          "metadata": {},
          "output_type": "execute_result"
        }
      ],
      "source": [
        "#get the indexes of durations that are \n",
        "df[(df['duration'] > 3600)]['duration']"
      ]
    },
    {
      "cell_type": "code",
      "execution_count": null,
      "metadata": {
        "colab": {
          "background_save": true
        },
        "id": "HcLo4IHXDmHh"
      },
      "outputs": [],
      "source": [
        "df = df.drop([7727, 13820, 22192, 24091, 40537])\n"
      ]
    },
    {
      "cell_type": "markdown",
      "metadata": {
        "id": "e0Uc1ggW_RJp"
      },
      "source": [
        "##Visualize data \n",
        "\n",
        "Bar chart: \n",
        "- % of yes and no's per month \n",
        "- ages (binned) vs. % 'Yes' and 'no's per bin \n",
        "  (0-18) \n",
        "- average duration of 'Yes' and 'no' \n",
        "- average campaign vs Yes and No\n"
      ]
    },
    {
      "cell_type": "code",
      "execution_count": null,
      "metadata": {
        "colab": {
          "base_uri": "https://localhost:8080/",
          "height": 303
        },
        "id": "x9CjU6mV_0Yy",
        "outputId": "ffb8b94b-f024-462c-fdc7-3a021098c0f8"
      },
      "outputs": [
        {
          "data": {
            "text/plain": [
              "<matplotlib.axes._subplots.AxesSubplot at 0x7fba114a2730>"
            ]
          },
          "execution_count": 115,
          "metadata": {},
          "output_type": "execute_result"
        },
        {
          "data": {
            "image/png": "[encoded data removed]",
            "text/plain": [
              "<Figure size 432x288 with 1 Axes>"
            ]
          },
          "metadata": {},
          "output_type": "display_data"
        }
      ],
      "source": [
        "#month vs. yes and no's \n",
        "\n",
        "sns.histplot(data=df,\n",
        "            x=df['month'], \n",
        "             hue = df['y'])\n",
        "            #y=df['y'])\n",
        "            #hue=None, order=None, hue_order=None, estimator='mean', errorbar=('ci', 95), n_boot=1000, units=None, seed=None, orient=None, color=None, palette=None, saturation=0.75, width=0.8, errcolor='.26', errwidth=None, capsize=None, dodge=True, ci='deprecated', ax=None, **kwargs)"
      ]
    },
    {
      "cell_type": "code",
      "execution_count": null,
      "metadata": {
        "colab": {
          "base_uri": "https://localhost:8080/",
          "height": 303
        },
        "id": "jx4jIPl7Cj3_",
        "outputId": "41397bb0-07e3-45f5-e696-e4686254a1f4"
      },
      "outputs": [
        {
          "data": {
            "text/plain": [
              "<matplotlib.axes._subplots.AxesSubplot at 0x7fba114efb80>"
            ]
          },
          "execution_count": 116,
          "metadata": {},
          "output_type": "execute_result"
        },
        {
          "data": {
            "image/png": "[encoded data removed]",
            "text/plain": [
              "<Figure size 432x288 with 1 Axes>"
            ]
          },
          "metadata": {},
          "output_type": "display_data"
        }
      ],
      "source": [
        "#Age vs yes and no \n",
        "sns.histplot(data=df,\n",
        "            x=df['age'], \n",
        "             hue = df['y'])\n",
        "            #y=df['y'])\n",
        "            #hue=None, order=None, hue_order=None, estimator='mean', errorbar=('ci', 95), n_boot=1000, units=None, seed=None, orient=None, color=None, palette=None, saturation=0.75, width=0.8, errcolor='.26', errwidth=None, capsize=None, dodge=True, ci='deprecated', ax=None, **kwargs)"
      ]
    },
    {
      "cell_type": "code",
      "execution_count": null,
      "metadata": {
        "colab": {
          "base_uri": "https://localhost:8080/",
          "height": 303
        },
        "id": "nRcz5luYCuZ_",
        "outputId": "fa8bd57a-5538-471f-c8a6-cc463c2a4775"
      },
      "outputs": [
        {
          "data": {
            "text/plain": [
              "<matplotlib.axes._subplots.AxesSubplot at 0x7fba115fcbe0>"
            ]
          },
          "execution_count": 117,
          "metadata": {},
          "output_type": "execute_result"
        },
        {
          "data": {
            "image/png": "[encoded data removed]",
            "text/plain": [
              "<Figure size 432x288 with 1 Axes>"
            ]
          },
          "metadata": {},
          "output_type": "display_data"
        }
      ],
      "source": [
        "#duration vs. yes and nos\n",
        "sns.histplot(data=df,\n",
        "            x=df['duration'], \n",
        "             hue = df['y'])\n",
        "            #y=df['y'])\n",
        "            #hue=None, order=None, hue_order=None, estimator='mean', errorbar=('ci', 95), n_boot=1000, units=None, seed=None, orient=None, color=None, palette=None, saturation=0.75, width=0.8, errcolor='.26', errwidth=None, capsize=None, dodge=True, ci='deprecated', ax=None, **kwargs)"
      ]
    },
    {
      "cell_type": "markdown",
      "metadata": {
        "id": "exCahXBgBq2w"
      },
      "source": [
        "##One Hot Encode Categorical Variables"
      ]
    },
    {
      "cell_type": "markdown",
      "metadata": {
        "id": "ERwMdUSr8GWZ"
      },
      "source": [
        "One hot encode some categorical variables: \n",
        "[[\"job\",\"marital\",\"education\",\"default\",\"housing\",\"loan\",\"contact,\"month\",\"day_of_week\",\"poutcome\"]]"
      ]
    },
    {
      "cell_type": "code",
      "execution_count": null,
      "metadata": {
        "colab": {
          "base_uri": "https://localhost:8080/",
          "height": 299
        },
        "id": "xuxt0YCf7Xcu",
        "outputId": "8a11e135-d868-49ec-9c3e-d7598570d820"
      },
      "outputs": [
        {
          "data": {
            "text/html": [
              "\n",
              "  <div id=\"df-d012b703-8643-4d96-87d0-3bb52cd35e03\">\n",
              "    <div class=\"colab-df-container\">\n",
              "      <div>\n",
              "<style scoped>\n",
              "    .dataframe tbody tr th:only-of-type {\n",
              "        vertical-align: middle;\n",
              "    }\n",
              "\n",
              "    .dataframe tbody tr th {\n",
              "        vertical-align: top;\n",
              "    }\n",
              "\n",
              "    .dataframe thead th {\n",
              "        text-align: right;\n",
              "    }\n",
              "</style>\n",
              "<table border=\"1\" class=\"dataframe\">\n",
              "  <thead>\n",
              "    <tr style=\"text-align: right;\">\n",
              "      <th></th>\n",
              "      <th>age</th>\n",
              "      <th>duration</th>\n",
              "      <th>campaign</th>\n",
              "      <th>pdays</th>\n",
              "      <th>previous</th>\n",
              "      <th>emp.var.rate</th>\n",
              "      <th>cons.price.idx</th>\n",
              "      <th>cons.conf.idx</th>\n",
              "      <th>euribor3m</th>\n",
              "      <th>nr.employed</th>\n",
              "      <th>...</th>\n",
              "      <th>month_\"oct\"</th>\n",
              "      <th>month_\"sep\"</th>\n",
              "      <th>day_of_week_\"fri\"</th>\n",
              "      <th>day_of_week_\"mon\"</th>\n",
              "      <th>day_of_week_\"thu\"</th>\n",
              "      <th>day_of_week_\"tue\"</th>\n",
              "      <th>day_of_week_\"wed\"</th>\n",
              "      <th>poutcome_\"failure\"</th>\n",
              "      <th>poutcome_\"nonexistent\"</th>\n",
              "      <th>poutcome_\"success\"</th>\n",
              "    </tr>\n",
              "  </thead>\n",
              "  <tbody>\n",
              "    <tr>\n",
              "      <th>0</th>\n",
              "      <td>56</td>\n",
              "      <td>261</td>\n",
              "      <td>1</td>\n",
              "      <td>999</td>\n",
              "      <td>0</td>\n",
              "      <td>1.1</td>\n",
              "      <td>93.994</td>\n",
              "      <td>-36.4</td>\n",
              "      <td>4.857</td>\n",
              "      <td>5191.0</td>\n",
              "      <td>...</td>\n",
              "      <td>0</td>\n",
              "      <td>0</td>\n",
              "      <td>0</td>\n",
              "      <td>1</td>\n",
              "      <td>0</td>\n",
              "      <td>0</td>\n",
              "      <td>0</td>\n",
              "      <td>0</td>\n",
              "      <td>1</td>\n",
              "      <td>0</td>\n",
              "    </tr>\n",
              "    <tr>\n",
              "      <th>1</th>\n",
              "      <td>57</td>\n",
              "      <td>149</td>\n",
              "      <td>1</td>\n",
              "      <td>999</td>\n",
              "      <td>0</td>\n",
              "      <td>1.1</td>\n",
              "      <td>93.994</td>\n",
              "      <td>-36.4</td>\n",
              "      <td>4.857</td>\n",
              "      <td>5191.0</td>\n",
              "      <td>...</td>\n",
              "      <td>0</td>\n",
              "      <td>0</td>\n",
              "      <td>0</td>\n",
              "      <td>1</td>\n",
              "      <td>0</td>\n",
              "      <td>0</td>\n",
              "      <td>0</td>\n",
              "      <td>0</td>\n",
              "      <td>1</td>\n",
              "      <td>0</td>\n",
              "    </tr>\n",
              "    <tr>\n",
              "      <th>2</th>\n",
              "      <td>37</td>\n",
              "      <td>226</td>\n",
              "      <td>1</td>\n",
              "      <td>999</td>\n",
              "      <td>0</td>\n",
              "      <td>1.1</td>\n",
              "      <td>93.994</td>\n",
              "      <td>-36.4</td>\n",
              "      <td>4.857</td>\n",
              "      <td>5191.0</td>\n",
              "      <td>...</td>\n",
              "      <td>0</td>\n",
              "      <td>0</td>\n",
              "      <td>0</td>\n",
              "      <td>1</td>\n",
              "      <td>0</td>\n",
              "      <td>0</td>\n",
              "      <td>0</td>\n",
              "      <td>0</td>\n",
              "      <td>1</td>\n",
              "      <td>0</td>\n",
              "    </tr>\n",
              "    <tr>\n",
              "      <th>3</th>\n",
              "      <td>40</td>\n",
              "      <td>151</td>\n",
              "      <td>1</td>\n",
              "      <td>999</td>\n",
              "      <td>0</td>\n",
              "      <td>1.1</td>\n",
              "      <td>93.994</td>\n",
              "      <td>-36.4</td>\n",
              "      <td>4.857</td>\n",
              "      <td>5191.0</td>\n",
              "      <td>...</td>\n",
              "      <td>0</td>\n",
              "      <td>0</td>\n",
              "      <td>0</td>\n",
              "      <td>1</td>\n",
              "      <td>0</td>\n",
              "      <td>0</td>\n",
              "      <td>0</td>\n",
              "      <td>0</td>\n",
              "      <td>1</td>\n",
              "      <td>0</td>\n",
              "    </tr>\n",
              "    <tr>\n",
              "      <th>4</th>\n",
              "      <td>56</td>\n",
              "      <td>307</td>\n",
              "      <td>1</td>\n",
              "      <td>999</td>\n",
              "      <td>0</td>\n",
              "      <td>1.1</td>\n",
              "      <td>93.994</td>\n",
              "      <td>-36.4</td>\n",
              "      <td>4.857</td>\n",
              "      <td>5191.0</td>\n",
              "      <td>...</td>\n",
              "      <td>0</td>\n",
              "      <td>0</td>\n",
              "      <td>0</td>\n",
              "      <td>1</td>\n",
              "      <td>0</td>\n",
              "      <td>0</td>\n",
              "      <td>0</td>\n",
              "      <td>0</td>\n",
              "      <td>1</td>\n",
              "      <td>0</td>\n",
              "    </tr>\n",
              "  </tbody>\n",
              "</table>\n",
              "<p>5 rows × 64 columns</p>\n",
              "</div>\n",
              "      <button class=\"colab-df-convert\" onclick=\"convertToInteractive('df-d012b703-8643-4d96-87d0-3bb52cd35e03')\"\n",
              "              title=\"Convert this dataframe to an interactive table.\"\n",
              "              style=\"display:none;\">\n",
              "        \n",
              "  <svg xmlns=\"http://www.w3.org/2000/svg\" height=\"24px\"viewBox=\"0 0 24 24\"\n",
              "       width=\"24px\">\n",
              "    <path d=\"M0 0h24v24H0V0z\" fill=\"none\"/>\n",
              "    <path d=\"M18.56 5.44l.94 2.06.94-2.06 2.06-.94-2.06-.94-.94-2.06-.94 2.06-2.06.94zm-11 1L8.5 8.5l.94-2.06 2.06-.94-2.06-.94L8.5 2.5l-.94 2.06-2.06.94zm10 10l.94 2.06.94-2.06 2.06-.94-2.06-.94-.94-2.06-.94 2.06-2.06.94z\"/><path d=\"M17.41 7.96l-1.37-1.37c-.4-.4-.92-.59-1.43-.59-.52 0-1.04.2-1.43.59L10.3 9.45l-7.72 7.72c-.78.78-.78 2.05 0 2.83L4 21.41c.39.39.9.59 1.41.59.51 0 1.02-.2 1.41-.59l7.78-7.78 2.81-2.81c.8-.78.8-2.07 0-2.86zM5.41 20L4 18.59l7.72-7.72 1.47 1.35L5.41 20z\"/>\n",
              "  </svg>\n",
              "      </button>\n",
              "      \n",
              "  <style>\n",
              "    .colab-df-container {\n",
              "      display:flex;\n",
              "      flex-wrap:wrap;\n",
              "      gap: 12px;\n",
              "    }\n",
              "\n",
              "    .colab-df-convert {\n",
              "      background-color: #E8F0FE;\n",
              "      border: none;\n",
              "      border-radius: 50%;\n",
              "      cursor: pointer;\n",
              "      display: none;\n",
              "      fill: #1967D2;\n",
              "      height: 32px;\n",
              "      padding: 0 0 0 0;\n",
              "      width: 32px;\n",
              "    }\n",
              "\n",
              "    .colab-df-convert:hover {\n",
              "      background-color: #E2EBFA;\n",
              "      box-shadow: 0px 1px 2px rgba(60, 64, 67, 0.3), 0px 1px 3px 1px rgba(60, 64, 67, 0.15);\n",
              "      fill: #174EA6;\n",
              "    }\n",
              "\n",
              "    [theme=dark] .colab-df-convert {\n",
              "      background-color: #3B4455;\n",
              "      fill: #D2E3FC;\n",
              "    }\n",
              "\n",
              "    [theme=dark] .colab-df-convert:hover {\n",
              "      background-color: #434B5C;\n",
              "      box-shadow: 0px 1px 3px 1px rgba(0, 0, 0, 0.15);\n",
              "      filter: drop-shadow(0px 1px 2px rgba(0, 0, 0, 0.3));\n",
              "      fill: #FFFFFF;\n",
              "    }\n",
              "  </style>\n",
              "\n",
              "      <script>\n",
              "        const buttonEl =\n",
              "          document.querySelector('#df-d012b703-8643-4d96-87d0-3bb52cd35e03 button.colab-df-convert');\n",
              "        buttonEl.style.display =\n",
              "          google.colab.kernel.accessAllowed ? 'block' : 'none';\n",
              "\n",
              "        async function convertToInteractive(key) {\n",
              "          const element = document.querySelector('#df-d012b703-8643-4d96-87d0-3bb52cd35e03');\n",
              "          const dataTable =\n",
              "            await google.colab.kernel.invokeFunction('convertToInteractive',\n",
              "                                                     [key], {});\n",
              "          if (!dataTable) return;\n",
              "\n",
              "          const docLinkHtml = 'Like what you see? Visit the ' +\n",
              "            '<a target=\"_blank\" href=https://colab.research.google.com/notebooks/data_table.ipynb>data table notebook</a>'\n",
              "            + ' to learn more about interactive tables.';\n",
              "          element.innerHTML = '';\n",
              "          dataTable['output_type'] = 'display_data';\n",
              "          await google.colab.output.renderOutput(dataTable, element);\n",
              "          const docLink = document.createElement('div');\n",
              "          docLink.innerHTML = docLinkHtml;\n",
              "          element.appendChild(docLink);\n",
              "        }\n",
              "      </script>\n",
              "    </div>\n",
              "  </div>\n",
              "  "
            ],
            "text/plain": [
              "   age  duration  campaign  pdays  previous  emp.var.rate  cons.price.idx  \\\n",
              "0   56       261         1    999         0           1.1          93.994   \n",
              "1   57       149         1    999         0           1.1          93.994   \n",
              "2   37       226         1    999         0           1.1          93.994   \n",
              "3   40       151         1    999         0           1.1          93.994   \n",
              "4   56       307         1    999         0           1.1          93.994   \n",
              "\n",
              "   cons.conf.idx  euribor3m  nr.employed  ... month_\"oct\"  month_\"sep\"  \\\n",
              "0          -36.4      4.857       5191.0  ...           0            0   \n",
              "1          -36.4      4.857       5191.0  ...           0            0   \n",
              "2          -36.4      4.857       5191.0  ...           0            0   \n",
              "3          -36.4      4.857       5191.0  ...           0            0   \n",
              "4          -36.4      4.857       5191.0  ...           0            0   \n",
              "\n",
              "   day_of_week_\"fri\"  day_of_week_\"mon\"  day_of_week_\"thu\"  day_of_week_\"tue\"  \\\n",
              "0                  0                  1                  0                  0   \n",
              "1                  0                  1                  0                  0   \n",
              "2                  0                  1                  0                  0   \n",
              "3                  0                  1                  0                  0   \n",
              "4                  0                  1                  0                  0   \n",
              "\n",
              "   day_of_week_\"wed\"  poutcome_\"failure\"  poutcome_\"nonexistent\"  \\\n",
              "0                  0                   0                       1   \n",
              "1                  0                   0                       1   \n",
              "2                  0                   0                       1   \n",
              "3                  0                   0                       1   \n",
              "4                  0                   0                       1   \n",
              "\n",
              "   poutcome_\"success\"  \n",
              "0                   0  \n",
              "1                   0  \n",
              "2                   0  \n",
              "3                   0  \n",
              "4                   0  \n",
              "\n",
              "[5 rows x 64 columns]"
            ]
          },
          "execution_count": 62,
          "metadata": {},
          "output_type": "execute_result"
        }
      ],
      "source": [
        "#categorical data\n",
        "categorical_cols = [\"job\",\"marital\",\"education\",\"default\",\"housing\",\"loan\",\"contact\", \"month\",\"day_of_week\",\"poutcome\"] \n",
        "\n",
        "#import pandas as pd\n",
        "df = pd.get_dummies(df, columns = categorical_cols)\n",
        "df.head()"
      ]
    },
    {
      "cell_type": "markdown",
      "metadata": {
        "id": "CgT-bzxo-tnP"
      },
      "source": [
        "##Analysis \n",
        "\n",
        "We can try out this classification problem with the following techniques: \n",
        "\n",
        "* Logistic Regression\n",
        "* Random Forests\n",
        "* K-Nearest Neighbours\n",
        "* Support Vector Machines\n",
        "* Neural Networks\n",
        "\n",
        "\n",
        "\n",
        "\n"
      ]
    },
    {
      "cell_type": "code",
      "execution_count": null,
      "metadata": {
        "id": "G79pXWZ9-jJM"
      },
      "outputs": [],
      "source": []
    },
    {
      "cell_type": "markdown",
      "source": [
        "### Logistic Regression "
      ],
      "metadata": {
        "id": "CWN-bAjKXOMc"
      }
    },
    {
      "cell_type": "code",
      "source": [
        "df.columns.values\n",
        "\n",
        "#Create feature and target matrices from the dataframe \n",
        "\n",
        "X = df[['age', 'duration', 'campaign', 'pdays', 'previous', 'emp.var.rate',\n",
        "       'cons.price.idx', 'cons.conf.idx', 'euribor3m', 'nr.employed',\n",
        "       'job_\"admin.\"', 'job_\"blue-collar\"', 'job_\"entrepreneur\"',\n",
        "       'job_\"housemaid\"', 'job_\"management\"', 'job_\"retired\"',\n",
        "       'job_\"self-employed\"', 'job_\"services\"', 'job_\"student\"',\n",
        "       'job_\"technician\"', 'job_\"unemployed\"', 'job_\"unknown\"',\n",
        "       'marital_\"divorced\"', 'marital_\"married\"', 'marital_\"single\"',\n",
        "       'marital_\"unknown\"', 'education_\"basic.4y\"',\n",
        "       'education_\"basic.6y\"', 'education_\"basic.9y\"',\n",
        "       'education_\"high.school\"', 'education_\"illiterate\"',\n",
        "       'education_\"professional.course\"', 'education_\"university.degree\"',\n",
        "       'education_\"unknown\"', 'default_\"no\"', 'default_\"unknown\"',\n",
        "       'default_\"yes\"', 'housing_\"no\"', 'housing_\"unknown\"',\n",
        "       'housing_\"yes\"', 'loan_\"no\"', 'loan_\"unknown\"', 'loan_\"yes\"',\n",
        "       'contact_\"cellular\"', 'contact_\"telephone\"', 'month_\"apr\"',\n",
        "       'month_\"aug\"', 'month_\"dec\"', 'month_\"jul\"', 'month_\"jun\"',\n",
        "       'month_\"mar\"', 'month_\"may\"', 'month_\"nov\"', 'month_\"oct\"',\n",
        "       'month_\"sep\"', 'day_of_week_\"fri\"', 'day_of_week_\"mon\"',\n",
        "       'day_of_week_\"thu\"', 'day_of_week_\"tue\"', 'day_of_week_\"wed\"',\n",
        "       'poutcome_\"failure\"', 'poutcome_\"nonexistent\"',\n",
        "       'poutcome_\"success\"']]\n",
        "\n",
        "\n",
        "y = df['y']\n"
      ],
      "metadata": {
        "id": "pNld-Ij9XWDk"
      },
      "execution_count": null,
      "outputs": []
    },
    {
      "cell_type": "code",
      "source": [
        "from sklearn.linear_model import LogisticRegression\n",
        "from sklearn.model_selection import train_test_split\n",
        "\n",
        "# Split data into training and test sets\n",
        "X_train, X_test, y_train, y_test = train_test_split(X, y, test_size=0.2, random_state=42)\n",
        "\n",
        "# Create an instance of the LogisticRegression class\n",
        "clf = LogisticRegression()\n",
        "\n",
        "# Fit the model to the training data\n",
        "clf.fit(X_train, y_train)\n",
        "\n",
        "# Evaluate the model on the test data\n",
        "accuracy = clf.score(X_test, y_test)\n",
        "print(f'Test accuracy: {accuracy:.2f}')"
      ],
      "metadata": {
        "id": "t4-4g3YmXYwn"
      },
      "execution_count": null,
      "outputs": []
    },
    {
      "cell_type": "markdown",
      "source": [
        "91% accuracy with logistic regression "
      ],
      "metadata": {
        "id": "KCORsG6KXa_n"
      }
    },
    {
      "cell_type": "markdown",
      "source": [
        "### Random Forest Classifier"
      ],
      "metadata": {
        "id": "oRXbCLuYXevT"
      }
    },
    {
      "cell_type": "code",
      "source": [
        "\"\"\"###Random Forest classification \n",
        "\n",
        "\n",
        "\"\"\"\n",
        "\n",
        "from sklearn.ensemble import RandomForestClassifier # for classification\n",
        "\n",
        "clf = RandomForestClassifier(n_estimators=100) # create an instance of the classifier \n",
        "clf.fit(X_train, y_train) # fit the data \n",
        "y_pred = clf.predict(X_test) # predict on the test data\n",
        "\n",
        "#Evaluation\n",
        "\n",
        "from sklearn.metrics import accuracy_score, f1_score # accuracy and f1 \n",
        "\n",
        "acc = accuracy_score(y_test, y_pred) #Accuracy \n",
        "f1 = f1_score(y_test, y_pred, pos_label='\"yes\"') #f1\n",
        "\n",
        "print(acc, f1)\n",
        " "
      ],
      "metadata": {
        "id": "YBMP6s2MXg1n"
      },
      "execution_count": null,
      "outputs": []
    },
    {
      "cell_type": "markdown",
      "source": [
        "91.28% accuracy and .54 f1 score with Random Forest Classifier"
      ],
      "metadata": {
        "id": "7639xDvsXjWb"
      }
    },
    {
      "cell_type": "markdown",
      "source": [
        "### KNN Classifier "
      ],
      "metadata": {
        "id": "OHMoFFsyXm3g"
      }
    },
    {
      "cell_type": "code",
      "source": [
        "\n",
        "#Imports \n",
        "from sklearn.neighbors import KNeighborsClassifier\n",
        "\n",
        "#create an instance of the classifier\n",
        "knn = KNeighborsClassifier(n_neighbors=5)\n",
        "\n",
        "#Fit the model\n",
        "knn.fit(X_train, y_train)\n",
        "\n",
        "#Predictions\n",
        "y_pred = knn.predict(X_test)\n",
        "\n",
        "#Evaluations \n",
        "acc = accuracy_score(y_test, y_pred)\n",
        "f1 = f1_score(y_test, y_pred, pos_label='\"yes\"') #f1\n",
        "\n",
        "print(acc, f1)\n"
      ],
      "metadata": {
        "id": "cqntGil1XpXV"
      },
      "execution_count": null,
      "outputs": []
    },
    {
      "cell_type": "markdown",
      "source": [
        "90% accuracy and .53 f1 "
      ],
      "metadata": {
        "id": "RS-BCPeeX_rl"
      }
    },
    {
      "cell_type": "markdown",
      "source": [
        "### Support Vector Machine "
      ],
      "metadata": {
        "id": "vQu8hKHxXu_q"
      }
    },
    {
      "cell_type": "code",
      "source": [
        "from sklearn.svm import SVC\n",
        "\n",
        "#create an instance of the model\n",
        "svc = SVC(kernel='linear') # for linear kernel\n",
        "\n",
        "#fit model\n",
        "svc.fit(X_train, y_train)\n",
        "\n",
        "#predict with the model \n",
        "y_pred = svc.predict(X_test)\n",
        "\n",
        "#Evaluations \n",
        "\n",
        "acc = accuracy_score(y_test, y_pred)\n",
        "f1 = f1_score(y_test, y_pred, pos_label='\"yes\"') #f1\n",
        "\n",
        "print(acc, f1)\n"
      ],
      "metadata": {
        "id": "YmLjdyhGXxot"
      },
      "execution_count": null,
      "outputs": []
    },
    {
      "cell_type": "markdown",
      "source": [
        "90.9% accuracy, .49 f1"
      ],
      "metadata": {
        "id": "kCprrxFPX1Rh"
      }
    },
    {
      "cell_type": "markdown",
      "source": [
        "### MultiLayer Perceptron"
      ],
      "metadata": {
        "id": "eed17h1LX3CQ"
      }
    },
    {
      "cell_type": "code",
      "source": [
        "\n",
        "from sklearn.neural_network import MLPClassifier\n",
        "import tensorflow as tf\n",
        "\n",
        "clf = MLPClassifier(hidden_layer_sizes=(100, 50), max_iter=1000)\n",
        "\n",
        "clf.fit(X_train, y_train)\n",
        "\n",
        "y_pred = clf.predict(X_test)\n",
        "\n",
        "#Evaluations \n",
        "\n",
        "acc = accuracy_score(y_test, y_pred)\n",
        "f1 = f1_score(y_test, y_pred, pos_label='\"yes\"') #f1\n",
        "\n",
        "print(acc, f1) "
      ],
      "metadata": {
        "id": "m7bkd-HYX5xG"
      },
      "execution_count": null,
      "outputs": []
    },
    {
      "cell_type": "markdown",
      "source": [
        "90% accuracy and .51 F1 score"
      ],
      "metadata": {
        "id": "36pDEQpcX8Ue"
      }
    },
    {
      "cell_type": "markdown",
      "source": [
        "It looks like our Random Forest Classifier outperformed the rest on both accuracy and F1 (precision and recall). If desired, we could extend this model with hyperparameter optimization using GridSearch. "
      ],
      "metadata": {
        "id": "6oH8VugGYDXS"
      }
    }
  ],
  "metadata": {
    "colab": {
      "provenance": []
    },
    "kernelspec": {
      "display_name": "Python 3",
      "name": "python3"
    },
    "language_info": {
      "name": "python"
    }
  },
  "nbformat": 4,
  "nbformat_minor": 0
}